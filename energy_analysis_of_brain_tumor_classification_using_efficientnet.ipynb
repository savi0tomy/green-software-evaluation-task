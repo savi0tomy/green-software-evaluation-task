{
  "nbformat": 4,
  "nbformat_minor": 0,
  "metadata": {
    "colab": {
      "provenance": [],
      "gpuType": "T4"
    },
    "kernelspec": {
      "name": "python3",
      "display_name": "Python 3"
    },
    "language_info": {
      "name": "python"
    },
    "accelerator": "GPU"
  },
  "cells": [
    {
      "cell_type": "markdown",
      "source": [
        "Downloading the brain tumor MRI dataset from kaggle"
      ],
      "metadata": {
        "id": "JiSqcxL1fGDf"
      }
    },
    {
      "cell_type": "code",
      "execution_count": null,
      "metadata": {
        "colab": {
          "base_uri": "https://localhost:8080/"
        },
        "id": "ORUMA_E5-9Jj",
        "outputId": "72dbd4ce-16cf-485d-cab0-7f75dd56500e"
      },
      "outputs": [
        {
          "output_type": "stream",
          "name": "stdout",
          "text": [
            "Downloading from https://www.kaggle.com/api/v1/datasets/download/masoudnickparvar/brain-tumor-mri-dataset?dataset_version_number=1...\n"
          ]
        },
        {
          "output_type": "stream",
          "name": "stderr",
          "text": [
            "100%|██████████| 149M/149M [00:01<00:00, 89.1MB/s]"
          ]
        },
        {
          "output_type": "stream",
          "name": "stdout",
          "text": [
            "Extracting files...\n"
          ]
        },
        {
          "output_type": "stream",
          "name": "stderr",
          "text": [
            "\n"
          ]
        },
        {
          "output_type": "stream",
          "name": "stdout",
          "text": [
            "path to dataset  /root/.cache/kagglehub/datasets/masoudnickparvar/brain-tumor-mri-dataset/versions/1\n"
          ]
        }
      ],
      "source": [
        "import kagglehub\n",
        "path = kagglehub.dataset_download(\"masoudnickparvar/brain-tumor-mri-dataset\")\n",
        "print(\"path to dataset \",path)\n"
      ]
    },
    {
      "cell_type": "markdown",
      "source": [
        "Install codecarbon and efficientnet"
      ],
      "metadata": {
        "id": "4s5xAkNafNZW"
      }
    },
    {
      "cell_type": "code",
      "source": [
        "!pip install torch torchvision codecarbon efficientnet_pytorch\n"
      ],
      "metadata": {
        "colab": {
          "base_uri": "https://localhost:8080/"
        },
        "id": "TWsrzQQKHL7h",
        "outputId": "21f0d2ee-d022-48f8-d698-d3816f555d65"
      },
      "execution_count": null,
      "outputs": [
        {
          "output_type": "stream",
          "name": "stdout",
          "text": [
            "Requirement already satisfied: torch in /usr/local/lib/python3.11/dist-packages (2.5.1+cu124)\n",
            "Requirement already satisfied: torchvision in /usr/local/lib/python3.11/dist-packages (0.20.1+cu124)\n",
            "Collecting codecarbon\n",
            "  Downloading codecarbon-2.8.3-py3-none-any.whl.metadata (8.7 kB)\n",
            "Collecting efficientnet_pytorch\n",
            "  Downloading efficientnet_pytorch-0.7.1.tar.gz (21 kB)\n",
            "  Preparing metadata (setup.py) ... \u001b[?25l\u001b[?25hdone\n",
            "Requirement already satisfied: filelock in /usr/local/lib/python3.11/dist-packages (from torch) (3.17.0)\n",
            "Requirement already satisfied: typing-extensions>=4.8.0 in /usr/local/lib/python3.11/dist-packages (from torch) (4.12.2)\n",
            "Requirement already satisfied: networkx in /usr/local/lib/python3.11/dist-packages (from torch) (3.4.2)\n",
            "Requirement already satisfied: jinja2 in /usr/local/lib/python3.11/dist-packages (from torch) (3.1.5)\n",
            "Requirement already satisfied: fsspec in /usr/local/lib/python3.11/dist-packages (from torch) (2024.10.0)\n",
            "Collecting nvidia-cuda-nvrtc-cu12==12.4.127 (from torch)\n",
            "  Downloading nvidia_cuda_nvrtc_cu12-12.4.127-py3-none-manylinux2014_x86_64.whl.metadata (1.5 kB)\n",
            "Collecting nvidia-cuda-runtime-cu12==12.4.127 (from torch)\n",
            "  Downloading nvidia_cuda_runtime_cu12-12.4.127-py3-none-manylinux2014_x86_64.whl.metadata (1.5 kB)\n",
            "Collecting nvidia-cuda-cupti-cu12==12.4.127 (from torch)\n",
            "  Downloading nvidia_cuda_cupti_cu12-12.4.127-py3-none-manylinux2014_x86_64.whl.metadata (1.6 kB)\n",
            "Collecting nvidia-cudnn-cu12==9.1.0.70 (from torch)\n",
            "  Downloading nvidia_cudnn_cu12-9.1.0.70-py3-none-manylinux2014_x86_64.whl.metadata (1.6 kB)\n",
            "Collecting nvidia-cublas-cu12==12.4.5.8 (from torch)\n",
            "  Downloading nvidia_cublas_cu12-12.4.5.8-py3-none-manylinux2014_x86_64.whl.metadata (1.5 kB)\n",
            "Collecting nvidia-cufft-cu12==11.2.1.3 (from torch)\n",
            "  Downloading nvidia_cufft_cu12-11.2.1.3-py3-none-manylinux2014_x86_64.whl.metadata (1.5 kB)\n",
            "Collecting nvidia-curand-cu12==10.3.5.147 (from torch)\n",
            "  Downloading nvidia_curand_cu12-10.3.5.147-py3-none-manylinux2014_x86_64.whl.metadata (1.5 kB)\n",
            "Collecting nvidia-cusolver-cu12==11.6.1.9 (from torch)\n",
            "  Downloading nvidia_cusolver_cu12-11.6.1.9-py3-none-manylinux2014_x86_64.whl.metadata (1.6 kB)\n",
            "Collecting nvidia-cusparse-cu12==12.3.1.170 (from torch)\n",
            "  Downloading nvidia_cusparse_cu12-12.3.1.170-py3-none-manylinux2014_x86_64.whl.metadata (1.6 kB)\n",
            "Requirement already satisfied: nvidia-nccl-cu12==2.21.5 in /usr/local/lib/python3.11/dist-packages (from torch) (2.21.5)\n",
            "Requirement already satisfied: nvidia-nvtx-cu12==12.4.127 in /usr/local/lib/python3.11/dist-packages (from torch) (12.4.127)\n",
            "Collecting nvidia-nvjitlink-cu12==12.4.127 (from torch)\n",
            "  Downloading nvidia_nvjitlink_cu12-12.4.127-py3-none-manylinux2014_x86_64.whl.metadata (1.5 kB)\n",
            "Requirement already satisfied: triton==3.1.0 in /usr/local/lib/python3.11/dist-packages (from torch) (3.1.0)\n",
            "Requirement already satisfied: sympy==1.13.1 in /usr/local/lib/python3.11/dist-packages (from torch) (1.13.1)\n",
            "Requirement already satisfied: mpmath<1.4,>=1.1.0 in /usr/local/lib/python3.11/dist-packages (from sympy==1.13.1->torch) (1.3.0)\n",
            "Requirement already satisfied: numpy in /usr/local/lib/python3.11/dist-packages (from torchvision) (1.26.4)\n",
            "Requirement already satisfied: pillow!=8.3.*,>=5.3.0 in /usr/local/lib/python3.11/dist-packages (from torchvision) (11.1.0)\n",
            "Collecting arrow (from codecarbon)\n",
            "  Downloading arrow-1.3.0-py3-none-any.whl.metadata (7.5 kB)\n",
            "Requirement already satisfied: click in /usr/local/lib/python3.11/dist-packages (from codecarbon) (8.1.8)\n",
            "Collecting fief-client[cli] (from codecarbon)\n",
            "  Downloading fief_client-0.20.0-py3-none-any.whl.metadata (2.1 kB)\n",
            "Requirement already satisfied: pandas in /usr/local/lib/python3.11/dist-packages (from codecarbon) (2.2.2)\n",
            "Requirement already satisfied: prometheus-client in /usr/local/lib/python3.11/dist-packages (from codecarbon) (0.21.1)\n",
            "Requirement already satisfied: psutil in /usr/local/lib/python3.11/dist-packages (from codecarbon) (5.9.5)\n",
            "Requirement already satisfied: py-cpuinfo in /usr/local/lib/python3.11/dist-packages (from codecarbon) (9.0.0)\n",
            "Requirement already satisfied: pynvml in /usr/local/lib/python3.11/dist-packages (from codecarbon) (11.4.1)\n",
            "Collecting questionary (from codecarbon)\n",
            "  Downloading questionary-2.1.0-py3-none-any.whl.metadata (5.4 kB)\n",
            "Collecting rapidfuzz (from codecarbon)\n",
            "  Downloading rapidfuzz-3.12.2-cp311-cp311-manylinux_2_17_x86_64.manylinux2014_x86_64.whl.metadata (12 kB)\n",
            "Requirement already satisfied: requests in /usr/local/lib/python3.11/dist-packages (from codecarbon) (2.32.3)\n",
            "Requirement already satisfied: rich in /usr/local/lib/python3.11/dist-packages (from codecarbon) (13.9.4)\n",
            "Requirement already satisfied: typer in /usr/local/lib/python3.11/dist-packages (from codecarbon) (0.15.1)\n",
            "Requirement already satisfied: python-dateutil>=2.7.0 in /usr/local/lib/python3.11/dist-packages (from arrow->codecarbon) (2.8.2)\n",
            "Collecting types-python-dateutil>=2.8.10 (from arrow->codecarbon)\n",
            "  Downloading types_python_dateutil-2.9.0.20241206-py3-none-any.whl.metadata (2.1 kB)\n",
            "Collecting httpx<0.28.0,>=0.21.3 (from fief-client[cli]->codecarbon)\n",
            "  Downloading httpx-0.27.2-py3-none-any.whl.metadata (7.1 kB)\n",
            "Collecting jwcrypto<2.0.0,>=1.4 (from fief-client[cli]->codecarbon)\n",
            "  Downloading jwcrypto-1.5.6-py3-none-any.whl.metadata (3.1 kB)\n",
            "Collecting yaspin (from fief-client[cli]->codecarbon)\n",
            "  Downloading yaspin-3.1.0-py3-none-any.whl.metadata (14 kB)\n",
            "Requirement already satisfied: MarkupSafe>=2.0 in /usr/local/lib/python3.11/dist-packages (from jinja2->torch) (3.0.2)\n",
            "Requirement already satisfied: pytz>=2020.1 in /usr/local/lib/python3.11/dist-packages (from pandas->codecarbon) (2025.1)\n",
            "Requirement already satisfied: tzdata>=2022.7 in /usr/local/lib/python3.11/dist-packages (from pandas->codecarbon) (2025.1)\n",
            "Requirement already satisfied: prompt_toolkit<4.0,>=2.0 in /usr/local/lib/python3.11/dist-packages (from questionary->codecarbon) (3.0.50)\n",
            "Requirement already satisfied: charset-normalizer<4,>=2 in /usr/local/lib/python3.11/dist-packages (from requests->codecarbon) (3.4.1)\n",
            "Requirement already satisfied: idna<4,>=2.5 in /usr/local/lib/python3.11/dist-packages (from requests->codecarbon) (3.10)\n",
            "Requirement already satisfied: urllib3<3,>=1.21.1 in /usr/local/lib/python3.11/dist-packages (from requests->codecarbon) (2.3.0)\n",
            "Requirement already satisfied: certifi>=2017.4.17 in /usr/local/lib/python3.11/dist-packages (from requests->codecarbon) (2025.1.31)\n",
            "Requirement already satisfied: markdown-it-py>=2.2.0 in /usr/local/lib/python3.11/dist-packages (from rich->codecarbon) (3.0.0)\n",
            "Requirement already satisfied: pygments<3.0.0,>=2.13.0 in /usr/local/lib/python3.11/dist-packages (from rich->codecarbon) (2.18.0)\n",
            "Requirement already satisfied: shellingham>=1.3.0 in /usr/local/lib/python3.11/dist-packages (from typer->codecarbon) (1.5.4)\n",
            "Requirement already satisfied: anyio in /usr/local/lib/python3.11/dist-packages (from httpx<0.28.0,>=0.21.3->fief-client[cli]->codecarbon) (3.7.1)\n",
            "Requirement already satisfied: httpcore==1.* in /usr/local/lib/python3.11/dist-packages (from httpx<0.28.0,>=0.21.3->fief-client[cli]->codecarbon) (1.0.7)\n",
            "Requirement already satisfied: sniffio in /usr/local/lib/python3.11/dist-packages (from httpx<0.28.0,>=0.21.3->fief-client[cli]->codecarbon) (1.3.1)\n",
            "Requirement already satisfied: h11<0.15,>=0.13 in /usr/local/lib/python3.11/dist-packages (from httpcore==1.*->httpx<0.28.0,>=0.21.3->fief-client[cli]->codecarbon) (0.14.0)\n",
            "Requirement already satisfied: cryptography>=3.4 in /usr/local/lib/python3.11/dist-packages (from jwcrypto<2.0.0,>=1.4->fief-client[cli]->codecarbon) (43.0.3)\n",
            "Requirement already satisfied: mdurl~=0.1 in /usr/local/lib/python3.11/dist-packages (from markdown-it-py>=2.2.0->rich->codecarbon) (0.1.2)\n",
            "Requirement already satisfied: wcwidth in /usr/local/lib/python3.11/dist-packages (from prompt_toolkit<4.0,>=2.0->questionary->codecarbon) (0.2.13)\n",
            "Requirement already satisfied: six>=1.5 in /usr/local/lib/python3.11/dist-packages (from python-dateutil>=2.7.0->arrow->codecarbon) (1.17.0)\n",
            "Collecting termcolor<2.4.0,>=2.2.0 (from yaspin->fief-client[cli]->codecarbon)\n",
            "  Downloading termcolor-2.3.0-py3-none-any.whl.metadata (5.3 kB)\n",
            "Requirement already satisfied: cffi>=1.12 in /usr/local/lib/python3.11/dist-packages (from cryptography>=3.4->jwcrypto<2.0.0,>=1.4->fief-client[cli]->codecarbon) (1.17.1)\n",
            "Requirement already satisfied: pycparser in /usr/local/lib/python3.11/dist-packages (from cffi>=1.12->cryptography>=3.4->jwcrypto<2.0.0,>=1.4->fief-client[cli]->codecarbon) (2.22)\n",
            "Downloading nvidia_cublas_cu12-12.4.5.8-py3-none-manylinux2014_x86_64.whl (363.4 MB)\n",
            "\u001b[2K   \u001b[90m━━━━━━━━━━━━━━━━━━━━━━━━━━━━━━━━━━━━━━━━\u001b[0m \u001b[32m363.4/363.4 MB\u001b[0m \u001b[31m4.1 MB/s\u001b[0m eta \u001b[36m0:00:00\u001b[0m\n",
            "\u001b[?25hDownloading nvidia_cuda_cupti_cu12-12.4.127-py3-none-manylinux2014_x86_64.whl (13.8 MB)\n",
            "\u001b[2K   \u001b[90m━━━━━━━━━━━━━━━━━━━━━━━━━━━━━━━━━━━━━━━━\u001b[0m \u001b[32m13.8/13.8 MB\u001b[0m \u001b[31m57.1 MB/s\u001b[0m eta \u001b[36m0:00:00\u001b[0m\n",
            "\u001b[?25hDownloading nvidia_cuda_nvrtc_cu12-12.4.127-py3-none-manylinux2014_x86_64.whl (24.6 MB)\n",
            "\u001b[2K   \u001b[90m━━━━━━━━━━━━━━━━━━━━━━━━━━━━━━━━━━━━━━━━\u001b[0m \u001b[32m24.6/24.6 MB\u001b[0m \u001b[31m12.5 MB/s\u001b[0m eta \u001b[36m0:00:00\u001b[0m\n",
            "\u001b[?25hDownloading nvidia_cuda_runtime_cu12-12.4.127-py3-none-manylinux2014_x86_64.whl (883 kB)\n",
            "\u001b[2K   \u001b[90m━━━━━━━━━━━━━━━━━━━━━━━━━━━━━━━━━━━━━━━━\u001b[0m \u001b[32m883.7/883.7 kB\u001b[0m \u001b[31m43.4 MB/s\u001b[0m eta \u001b[36m0:00:00\u001b[0m\n",
            "\u001b[?25hDownloading nvidia_cudnn_cu12-9.1.0.70-py3-none-manylinux2014_x86_64.whl (664.8 MB)\n",
            "\u001b[2K   \u001b[90m━━━━━━━━━━━━━━━━━━━━━━━━━━━━━━━━━━━━━━━━\u001b[0m \u001b[32m664.8/664.8 MB\u001b[0m \u001b[31m2.5 MB/s\u001b[0m eta \u001b[36m0:00:00\u001b[0m\n",
            "\u001b[?25hDownloading nvidia_cufft_cu12-11.2.1.3-py3-none-manylinux2014_x86_64.whl (211.5 MB)\n",
            "\u001b[2K   \u001b[90m━━━━━━━━━━━━━━━━━━━━━━━━━━━━━━━━━━━━━━━━\u001b[0m \u001b[32m211.5/211.5 MB\u001b[0m \u001b[31m6.0 MB/s\u001b[0m eta \u001b[36m0:00:00\u001b[0m\n",
            "\u001b[?25hDownloading nvidia_curand_cu12-10.3.5.147-py3-none-manylinux2014_x86_64.whl (56.3 MB)\n",
            "\u001b[2K   \u001b[90m━━━━━━━━━━━━━━━━━━━━━━━━━━━━━━━━━━━━━━━━\u001b[0m \u001b[32m56.3/56.3 MB\u001b[0m \u001b[31m11.3 MB/s\u001b[0m eta \u001b[36m0:00:00\u001b[0m\n",
            "\u001b[?25hDownloading nvidia_cusolver_cu12-11.6.1.9-py3-none-manylinux2014_x86_64.whl (127.9 MB)\n",
            "\u001b[2K   \u001b[90m━━━━━━━━━━━━━━━━━━━━━━━━━━━━━━━━━━━━━━━━\u001b[0m \u001b[32m127.9/127.9 MB\u001b[0m \u001b[31m7.6 MB/s\u001b[0m eta \u001b[36m0:00:00\u001b[0m\n",
            "\u001b[?25hDownloading nvidia_cusparse_cu12-12.3.1.170-py3-none-manylinux2014_x86_64.whl (207.5 MB)\n",
            "\u001b[2K   \u001b[90m━━━━━━━━━━━━━━━━━━━━━━━━━━━━━━━━━━━━━━━━\u001b[0m \u001b[32m207.5/207.5 MB\u001b[0m \u001b[31m6.3 MB/s\u001b[0m eta \u001b[36m0:00:00\u001b[0m\n",
            "\u001b[?25hDownloading nvidia_nvjitlink_cu12-12.4.127-py3-none-manylinux2014_x86_64.whl (21.1 MB)\n",
            "\u001b[2K   \u001b[90m━━━━━━━━━━━━━━━━━━━━━━━━━━━━━━━━━━━━━━━━\u001b[0m \u001b[32m21.1/21.1 MB\u001b[0m \u001b[31m71.9 MB/s\u001b[0m eta \u001b[36m0:00:00\u001b[0m\n",
            "\u001b[?25hDownloading codecarbon-2.8.3-py3-none-any.whl (516 kB)\n",
            "\u001b[2K   \u001b[90m━━━━━━━━━━━━━━━━━━━━━━━━━━━━━━━━━━━━━━━━\u001b[0m \u001b[32m516.7/516.7 kB\u001b[0m \u001b[31m42.7 MB/s\u001b[0m eta \u001b[36m0:00:00\u001b[0m\n",
            "\u001b[?25hDownloading arrow-1.3.0-py3-none-any.whl (66 kB)\n",
            "\u001b[2K   \u001b[90m━━━━━━━━━━━━━━━━━━━━━━━━━━━━━━━━━━━━━━━━\u001b[0m \u001b[32m66.4/66.4 kB\u001b[0m \u001b[31m7.3 MB/s\u001b[0m eta \u001b[36m0:00:00\u001b[0m\n",
            "\u001b[?25hDownloading questionary-2.1.0-py3-none-any.whl (36 kB)\n",
            "Downloading rapidfuzz-3.12.2-cp311-cp311-manylinux_2_17_x86_64.manylinux2014_x86_64.whl (3.1 MB)\n",
            "\u001b[2K   \u001b[90m━━━━━━━━━━━━━━━━━━━━━━━━━━━━━━━━━━━━━━━━\u001b[0m \u001b[32m3.1/3.1 MB\u001b[0m \u001b[31m86.4 MB/s\u001b[0m eta \u001b[36m0:00:00\u001b[0m\n",
            "\u001b[?25hDownloading httpx-0.27.2-py3-none-any.whl (76 kB)\n",
            "\u001b[2K   \u001b[90m━━━━━━━━━━━━━━━━━━━━━━━━━━━━━━━━━━━━━━━━\u001b[0m \u001b[32m76.4/76.4 kB\u001b[0m \u001b[31m7.9 MB/s\u001b[0m eta \u001b[36m0:00:00\u001b[0m\n",
            "\u001b[?25hDownloading jwcrypto-1.5.6-py3-none-any.whl (92 kB)\n",
            "\u001b[2K   \u001b[90m━━━━━━━━━━━━━━━━━━━━━━━━━━━━━━━━━━━━━━━━\u001b[0m \u001b[32m92.5/92.5 kB\u001b[0m \u001b[31m10.8 MB/s\u001b[0m eta \u001b[36m0:00:00\u001b[0m\n",
            "\u001b[?25hDownloading types_python_dateutil-2.9.0.20241206-py3-none-any.whl (14 kB)\n",
            "Downloading fief_client-0.20.0-py3-none-any.whl (20 kB)\n",
            "Downloading yaspin-3.1.0-py3-none-any.whl (18 kB)\n",
            "Downloading termcolor-2.3.0-py3-none-any.whl (6.9 kB)\n",
            "Building wheels for collected packages: efficientnet_pytorch\n",
            "  Building wheel for efficientnet_pytorch (setup.py) ... \u001b[?25l\u001b[?25hdone\n",
            "  Created wheel for efficientnet_pytorch: filename=efficientnet_pytorch-0.7.1-py3-none-any.whl size=16424 sha256=aa89462788ac8f7aa3033d0a30479abb738951e775530ee460ddd2bb33d56726\n",
            "  Stored in directory: /root/.cache/pip/wheels/8b/6f/9b/231a832f811ab6ebb1b32455b177ffc6b8b1cd8de19de70c09\n",
            "Successfully built efficientnet_pytorch\n",
            "Installing collected packages: types-python-dateutil, termcolor, rapidfuzz, nvidia-nvjitlink-cu12, nvidia-curand-cu12, nvidia-cufft-cu12, nvidia-cuda-runtime-cu12, nvidia-cuda-nvrtc-cu12, nvidia-cuda-cupti-cu12, nvidia-cublas-cu12, yaspin, questionary, nvidia-cusparse-cu12, nvidia-cudnn-cu12, httpx, arrow, nvidia-cusolver-cu12, jwcrypto, fief-client, efficientnet_pytorch, codecarbon\n",
            "  Attempting uninstall: termcolor\n",
            "    Found existing installation: termcolor 2.5.0\n",
            "    Uninstalling termcolor-2.5.0:\n",
            "      Successfully uninstalled termcolor-2.5.0\n",
            "  Attempting uninstall: nvidia-nvjitlink-cu12\n",
            "    Found existing installation: nvidia-nvjitlink-cu12 12.5.82\n",
            "    Uninstalling nvidia-nvjitlink-cu12-12.5.82:\n",
            "      Successfully uninstalled nvidia-nvjitlink-cu12-12.5.82\n",
            "  Attempting uninstall: nvidia-curand-cu12\n",
            "    Found existing installation: nvidia-curand-cu12 10.3.6.82\n",
            "    Uninstalling nvidia-curand-cu12-10.3.6.82:\n",
            "      Successfully uninstalled nvidia-curand-cu12-10.3.6.82\n",
            "  Attempting uninstall: nvidia-cufft-cu12\n",
            "    Found existing installation: nvidia-cufft-cu12 11.2.3.61\n",
            "    Uninstalling nvidia-cufft-cu12-11.2.3.61:\n",
            "      Successfully uninstalled nvidia-cufft-cu12-11.2.3.61\n",
            "  Attempting uninstall: nvidia-cuda-runtime-cu12\n",
            "    Found existing installation: nvidia-cuda-runtime-cu12 12.5.82\n",
            "    Uninstalling nvidia-cuda-runtime-cu12-12.5.82:\n",
            "      Successfully uninstalled nvidia-cuda-runtime-cu12-12.5.82\n",
            "  Attempting uninstall: nvidia-cuda-nvrtc-cu12\n",
            "    Found existing installation: nvidia-cuda-nvrtc-cu12 12.5.82\n",
            "    Uninstalling nvidia-cuda-nvrtc-cu12-12.5.82:\n",
            "      Successfully uninstalled nvidia-cuda-nvrtc-cu12-12.5.82\n",
            "  Attempting uninstall: nvidia-cuda-cupti-cu12\n",
            "    Found existing installation: nvidia-cuda-cupti-cu12 12.5.82\n",
            "    Uninstalling nvidia-cuda-cupti-cu12-12.5.82:\n",
            "      Successfully uninstalled nvidia-cuda-cupti-cu12-12.5.82\n",
            "  Attempting uninstall: nvidia-cublas-cu12\n",
            "    Found existing installation: nvidia-cublas-cu12 12.5.3.2\n",
            "    Uninstalling nvidia-cublas-cu12-12.5.3.2:\n",
            "      Successfully uninstalled nvidia-cublas-cu12-12.5.3.2\n",
            "  Attempting uninstall: nvidia-cusparse-cu12\n",
            "    Found existing installation: nvidia-cusparse-cu12 12.5.1.3\n",
            "    Uninstalling nvidia-cusparse-cu12-12.5.1.3:\n",
            "      Successfully uninstalled nvidia-cusparse-cu12-12.5.1.3\n",
            "  Attempting uninstall: nvidia-cudnn-cu12\n",
            "    Found existing installation: nvidia-cudnn-cu12 9.3.0.75\n",
            "    Uninstalling nvidia-cudnn-cu12-9.3.0.75:\n",
            "      Successfully uninstalled nvidia-cudnn-cu12-9.3.0.75\n",
            "  Attempting uninstall: httpx\n",
            "    Found existing installation: httpx 0.28.1\n",
            "    Uninstalling httpx-0.28.1:\n",
            "      Successfully uninstalled httpx-0.28.1\n",
            "  Attempting uninstall: nvidia-cusolver-cu12\n",
            "    Found existing installation: nvidia-cusolver-cu12 11.6.3.83\n",
            "    Uninstalling nvidia-cusolver-cu12-11.6.3.83:\n",
            "      Successfully uninstalled nvidia-cusolver-cu12-11.6.3.83\n",
            "Successfully installed arrow-1.3.0 codecarbon-2.8.3 efficientnet_pytorch-0.7.1 fief-client-0.20.0 httpx-0.27.2 jwcrypto-1.5.6 nvidia-cublas-cu12-12.4.5.8 nvidia-cuda-cupti-cu12-12.4.127 nvidia-cuda-nvrtc-cu12-12.4.127 nvidia-cuda-runtime-cu12-12.4.127 nvidia-cudnn-cu12-9.1.0.70 nvidia-cufft-cu12-11.2.1.3 nvidia-curand-cu12-10.3.5.147 nvidia-cusolver-cu12-11.6.1.9 nvidia-cusparse-cu12-12.3.1.170 nvidia-nvjitlink-cu12-12.4.127 questionary-2.1.0 rapidfuzz-3.12.2 termcolor-2.3.0 types-python-dateutil-2.9.0.20241206 yaspin-3.1.0\n"
          ]
        }
      ]
    },
    {
      "cell_type": "markdown",
      "source": [
        "Prepare the data for training"
      ],
      "metadata": {
        "id": "UAcV004RfVQB"
      }
    },
    {
      "cell_type": "code",
      "source": [
        "import torch\n",
        "from torchvision import datasets, transforms\n",
        "from torch.utils.data import DataLoader\n",
        "\n",
        "train_path = path+\"/Training\"\n",
        "test_path = path+\"/Testing\"\n",
        "\n",
        "img_size = (256, 256)\n",
        "transform = transforms.Compose([\n",
        "    transforms.Resize((256, 256)),\n",
        "    transforms.ToTensor(),\n",
        "    transforms.Normalize([0.485, 0.456, 0.406], [0.229, 0.224, 0.225]),\n",
        "])\n",
        "\n",
        "train_dataset = datasets.ImageFolder(root=train_path, transform=transform)\n",
        "test_dataset = datasets.ImageFolder(root=test_path, transform=transform)\n",
        "\n",
        "batch_size = 32\n",
        "train_loader = DataLoader(train_dataset, batch_size=batch_size, shuffle=True)\n",
        "test_loader = DataLoader(test_dataset, batch_size=batch_size, shuffle=False)\n",
        "\n",
        "print(\"Classes: \", train_dataset.classes)"
      ],
      "metadata": {
        "colab": {
          "base_uri": "https://localhost:8080/"
        },
        "id": "Ode4Dce9BG5o",
        "outputId": "f4f6fbe9-53d9-4d33-decf-8f68b7c434f4"
      },
      "execution_count": null,
      "outputs": [
        {
          "output_type": "stream",
          "name": "stdout",
          "text": [
            "Classes:  ['glioma', 'meningioma', 'notumor', 'pituitary']\n"
          ]
        }
      ]
    },
    {
      "cell_type": "markdown",
      "source": [
        "Loading efficientnet and setting the loss function, optimizer and learning rate"
      ],
      "metadata": {
        "id": "KnxmnpuVfZrm"
      }
    },
    {
      "cell_type": "code",
      "source": [
        "import torch.nn as nn\n",
        "from efficientnet_pytorch import EfficientNet\n",
        "\n",
        "model = EfficientNet.from_pretrained('efficientnet-b0')\n",
        "model._fc = nn.Linear(model._fc.in_features, 4)\n",
        "\n",
        "device = torch.device(\"cuda\" if torch.cuda.is_available() else \"cpu\")\n",
        "model.to(device)\n",
        "\n",
        "criterion = nn.CrossEntropyLoss()\n",
        "optimizer = torch.optim.Adam(model.parameters(), lr=0.001)"
      ],
      "metadata": {
        "colab": {
          "base_uri": "https://localhost:8080/"
        },
        "id": "ROliSunfH_47",
        "outputId": "3c20e538-8959-41b7-a8ca-6c53d1c0977b"
      },
      "execution_count": null,
      "outputs": [
        {
          "output_type": "stream",
          "name": "stderr",
          "text": [
            "Downloading: \"https://github.com/lukemelas/EfficientNet-PyTorch/releases/download/1.0/efficientnet-b0-355c32eb.pth\" to /root/.cache/torch/hub/checkpoints/efficientnet-b0-355c32eb.pth\n",
            "100%|██████████| 20.4M/20.4M [00:00<00:00, 70.8MB/s]\n"
          ]
        },
        {
          "output_type": "stream",
          "name": "stdout",
          "text": [
            "Loaded pretrained weights for efficientnet-b0\n"
          ]
        }
      ]
    },
    {
      "cell_type": "markdown",
      "source": [
        "Training, along with emissions tracking"
      ],
      "metadata": {
        "id": "rEAd-OSDfmaN"
      }
    },
    {
      "cell_type": "code",
      "source": [
        "from codecarbon import EmissionsTracker\n",
        "tracker = EmissionsTracker()\n",
        "tracker.start()\n",
        "\n",
        "def train_model(model, train_loader, test_loader, criterion, optimizer, epochs=5):\n",
        "    for epoch in range(epochs):\n",
        "        model.train()\n",
        "        running_loss, correct = 0.0, 0\n",
        "        total = 0\n",
        "\n",
        "        for images, labels in train_loader:\n",
        "            images, labels = images.to(device), labels.to(device)\n",
        "\n",
        "            outputs = model(images)\n",
        "            loss = criterion(outputs, labels)\n",
        "\n",
        "            optimizer.zero_grad()\n",
        "            loss.backward()\n",
        "            optimizer.step()\n",
        "\n",
        "            running_loss += loss.item() * images.size(0)\n",
        "            _, predicted = outputs.max(1)\n",
        "            correct += (predicted == labels).sum().item()\n",
        "            total += labels.size(0)\n",
        "\n",
        "        train_loss = running_loss / len(train_loader.dataset)\n",
        "        train_acc = 100 * correct / total\n",
        "\n",
        "        print(f\"Epoch {epoch+1}/{epochs} - Loss: {train_loss:.4f} - Accuracy: {train_acc:.2f}%\")\n",
        "\n",
        "    evaluate_model(model, test_loader)\n",
        "    tracker.stop()\n",
        "\n",
        "def evaluate_model(model, test_loader):\n",
        "    model.eval()\n",
        "    correct, total = 0, 0\n",
        "\n",
        "    with torch.no_grad():\n",
        "        for images, labels in test_loader:\n",
        "            images, labels = images.to(device), labels.to(device)\n",
        "            outputs = model(images)\n",
        "            _, predicted = outputs.max(1)\n",
        "            correct += (predicted == labels).sum().item()\n",
        "            total += labels.size(0)\n",
        "\n",
        "    print(f\"Test Accuracy: {100 * correct / total:.2f}%\")\n",
        "\n",
        "train_model(model, train_loader, test_loader, criterion, optimizer, epochs=10)"
      ],
      "metadata": {
        "colab": {
          "base_uri": "https://localhost:8080/"
        },
        "id": "sJCia2s9IPtv",
        "outputId": "3464bc51-9077-4bce-df5a-9213b78a0add"
      },
      "execution_count": null,
      "outputs": [
        {
          "output_type": "stream",
          "name": "stderr",
          "text": [
            "[codecarbon INFO @ 17:59:06] [setup] RAM Tracking...\n",
            "[codecarbon INFO @ 17:59:06] [setup] CPU Tracking...\n",
            "[codecarbon WARNING @ 17:59:06] No CPU tracking mode found. Falling back on CPU constant mode. \n",
            " Linux OS detected: Please ensure RAPL files exist at \\sys\\class\\powercap\\intel-rapl to measure CPU\n",
            "\n",
            "[codecarbon WARNING @ 17:59:07] We saw that you have a Intel(R) Xeon(R) CPU @ 2.00GHz but we don't know it. Please contact us.\n",
            "[codecarbon INFO @ 17:59:07] CPU Model on constant consumption mode: Intel(R) Xeon(R) CPU @ 2.00GHz\n",
            "[codecarbon INFO @ 17:59:07] [setup] GPU Tracking...\n",
            "[codecarbon INFO @ 17:59:07] Tracking Nvidia GPU via pynvml\n",
            "[codecarbon INFO @ 17:59:07] >>> Tracker's metadata:\n",
            "[codecarbon INFO @ 17:59:07]   Platform system: Linux-6.1.85+-x86_64-with-glibc2.35\n",
            "[codecarbon INFO @ 17:59:07]   Python version: 3.11.11\n",
            "[codecarbon INFO @ 17:59:07]   CodeCarbon version: 2.8.3\n",
            "[codecarbon INFO @ 17:59:07]   Available RAM : 12.675 GB\n",
            "[codecarbon INFO @ 17:59:07]   CPU count: 2\n",
            "[codecarbon INFO @ 17:59:07]   CPU model: Intel(R) Xeon(R) CPU @ 2.00GHz\n",
            "[codecarbon INFO @ 17:59:07]   GPU count: 1\n",
            "[codecarbon INFO @ 17:59:07]   GPU model: 1 x Tesla T4\n",
            "[codecarbon INFO @ 17:59:07] Saving emissions data to file /content/emissions.csv\n",
            "[codecarbon INFO @ 17:59:22] Energy consumed for RAM : 0.000020 kWh. RAM Power : 4.7530388832092285 W\n",
            "[codecarbon INFO @ 17:59:22] Energy consumed for all CPUs : 0.000177 kWh. Total CPU Power : 42.5 W\n",
            "[codecarbon INFO @ 17:59:22] Energy consumed for all GPUs : 0.000221 kWh. Total GPU Power : 52.90937329409075 W\n",
            "[codecarbon INFO @ 17:59:22] 0.000418 kWh of electricity used since the beginning.\n",
            "[codecarbon INFO @ 17:59:37] Energy consumed for RAM : 0.000040 kWh. RAM Power : 4.7530388832092285 W\n",
            "[codecarbon INFO @ 17:59:37] Energy consumed for all CPUs : 0.000354 kWh. Total CPU Power : 42.5 W\n",
            "[codecarbon INFO @ 17:59:37] Energy consumed for all GPUs : 0.000460 kWh. Total GPU Power : 57.50127376922487 W\n",
            "[codecarbon INFO @ 17:59:37] 0.000854 kWh of electricity used since the beginning.\n",
            "[codecarbon INFO @ 17:59:52] Energy consumed for RAM : 0.000059 kWh. RAM Power : 4.7530388832092285 W\n",
            "[codecarbon INFO @ 17:59:52] Energy consumed for all CPUs : 0.000531 kWh. Total CPU Power : 42.5 W\n",
            "[codecarbon INFO @ 17:59:52] Energy consumed for all GPUs : 0.000697 kWh. Total GPU Power : 56.91873705654689 W\n",
            "[codecarbon INFO @ 17:59:52] 0.001288 kWh of electricity used since the beginning.\n",
            "[codecarbon INFO @ 18:00:07] Energy consumed for RAM : 0.000079 kWh. RAM Power : 4.7530388832092285 W\n",
            "[codecarbon INFO @ 18:00:07] Energy consumed for all CPUs : 0.000708 kWh. Total CPU Power : 42.5 W\n",
            "[codecarbon INFO @ 18:00:07] Energy consumed for all GPUs : 0.000944 kWh. Total GPU Power : 59.317009686865426 W\n",
            "[codecarbon INFO @ 18:00:07] 0.001732 kWh of electricity used since the beginning.\n"
          ]
        },
        {
          "output_type": "stream",
          "name": "stdout",
          "text": [
            "Epoch 1/10 - Loss: 0.2454 - Accuracy: 91.53%\n"
          ]
        },
        {
          "output_type": "stream",
          "name": "stderr",
          "text": [
            "[codecarbon INFO @ 18:00:22] Energy consumed for RAM : 0.000099 kWh. RAM Power : 4.7530388832092285 W\n",
            "[codecarbon INFO @ 18:00:22] Energy consumed for all CPUs : 0.000885 kWh. Total CPU Power : 42.5 W\n",
            "[codecarbon INFO @ 18:00:22] Energy consumed for all GPUs : 0.001192 kWh. Total GPU Power : 59.572873983485806 W\n",
            "[codecarbon INFO @ 18:00:22] 0.002176 kWh of electricity used since the beginning.\n",
            "[codecarbon INFO @ 18:00:37] Energy consumed for RAM : 0.000119 kWh. RAM Power : 4.7530388832092285 W\n",
            "[codecarbon INFO @ 18:00:37] Energy consumed for all CPUs : 0.001062 kWh. Total CPU Power : 42.5 W\n",
            "[codecarbon INFO @ 18:00:37] Energy consumed for all GPUs : 0.001444 kWh. Total GPU Power : 60.31340920278389 W\n",
            "[codecarbon INFO @ 18:00:37] 0.002624 kWh of electricity used since the beginning.\n",
            "[codecarbon INFO @ 18:00:52] Energy consumed for RAM : 0.000139 kWh. RAM Power : 4.7530388832092285 W\n",
            "[codecarbon INFO @ 18:00:52] Energy consumed for all CPUs : 0.001239 kWh. Total CPU Power : 42.5 W\n",
            "[codecarbon INFO @ 18:00:52] Energy consumed for all GPUs : 0.001697 kWh. Total GPU Power : 60.950987415384965 W\n",
            "[codecarbon INFO @ 18:00:52] 0.003075 kWh of electricity used since the beginning.\n",
            "[codecarbon INFO @ 18:01:07] Energy consumed for RAM : 0.000158 kWh. RAM Power : 4.7530388832092285 W\n",
            "[codecarbon INFO @ 18:01:07] Energy consumed for all CPUs : 0.001416 kWh. Total CPU Power : 42.5 W\n",
            "[codecarbon INFO @ 18:01:07] Energy consumed for all GPUs : 0.001953 kWh. Total GPU Power : 61.418056403172145 W\n",
            "[codecarbon INFO @ 18:01:07] 0.003528 kWh of electricity used since the beginning.\n",
            "[codecarbon INFO @ 18:01:07] 0.010265 g.CO2eq/s mean an estimation of 323.70612532386286 kg.CO2eq/year\n",
            "[codecarbon INFO @ 18:01:22] Energy consumed for RAM : 0.000178 kWh. RAM Power : 4.7530388832092285 W\n",
            "[codecarbon INFO @ 18:01:22] Energy consumed for all CPUs : 0.001593 kWh. Total CPU Power : 42.5 W\n",
            "[codecarbon INFO @ 18:01:22] Energy consumed for all GPUs : 0.002209 kWh. Total GPU Power : 61.41773683470205 W\n",
            "[codecarbon INFO @ 18:01:22] 0.003981 kWh of electricity used since the beginning.\n"
          ]
        },
        {
          "output_type": "stream",
          "name": "stdout",
          "text": [
            "Epoch 2/10 - Loss: 0.0930 - Accuracy: 96.85%\n"
          ]
        },
        {
          "output_type": "stream",
          "name": "stderr",
          "text": [
            "[codecarbon INFO @ 18:01:37] Energy consumed for RAM : 0.000198 kWh. RAM Power : 4.7530388832092285 W\n",
            "[codecarbon INFO @ 18:01:37] Energy consumed for all CPUs : 0.001770 kWh. Total CPU Power : 42.5 W\n",
            "[codecarbon INFO @ 18:01:37] Energy consumed for all GPUs : 0.002465 kWh. Total GPU Power : 61.37002001474245 W\n",
            "[codecarbon INFO @ 18:01:37] 0.004433 kWh of electricity used since the beginning.\n",
            "[codecarbon INFO @ 18:01:52] Energy consumed for RAM : 0.000218 kWh. RAM Power : 4.7530388832092285 W\n",
            "[codecarbon INFO @ 18:01:52] Energy consumed for all CPUs : 0.001947 kWh. Total CPU Power : 42.5 W\n",
            "[codecarbon INFO @ 18:01:52] Energy consumed for all GPUs : 0.002718 kWh. Total GPU Power : 60.854904574177894 W\n",
            "[codecarbon INFO @ 18:01:52] 0.004884 kWh of electricity used since the beginning.\n",
            "[codecarbon INFO @ 18:02:07] Energy consumed for RAM : 0.000238 kWh. RAM Power : 4.7530388832092285 W\n",
            "[codecarbon INFO @ 18:02:07] Energy consumed for all CPUs : 0.002124 kWh. Total CPU Power : 42.5 W\n",
            "[codecarbon INFO @ 18:02:07] Energy consumed for all GPUs : 0.002973 kWh. Total GPU Power : 61.047514111232864 W\n",
            "[codecarbon INFO @ 18:02:07] 0.005335 kWh of electricity used since the beginning.\n",
            "[codecarbon INFO @ 18:02:22] Energy consumed for RAM : 0.000257 kWh. RAM Power : 4.7530388832092285 W\n",
            "[codecarbon INFO @ 18:02:22] Energy consumed for all CPUs : 0.002301 kWh. Total CPU Power : 42.5 W\n",
            "[codecarbon INFO @ 18:02:22] Energy consumed for all GPUs : 0.003227 kWh. Total GPU Power : 61.1115085588936 W\n",
            "[codecarbon INFO @ 18:02:22] 0.005786 kWh of electricity used since the beginning.\n",
            "[codecarbon INFO @ 18:02:37] Energy consumed for RAM : 0.000277 kWh. RAM Power : 4.7530388832092285 W\n",
            "[codecarbon INFO @ 18:02:37] Energy consumed for all CPUs : 0.002478 kWh. Total CPU Power : 42.5 W\n",
            "[codecarbon INFO @ 18:02:37] Energy consumed for all GPUs : 0.003483 kWh. Total GPU Power : 61.30192194466988 W\n",
            "[codecarbon INFO @ 18:02:37] 0.006238 kWh of electricity used since the beginning.\n"
          ]
        },
        {
          "output_type": "stream",
          "name": "stdout",
          "text": [
            "Epoch 3/10 - Loss: 0.0484 - Accuracy: 98.21%\n"
          ]
        },
        {
          "output_type": "stream",
          "name": "stderr",
          "text": [
            "[codecarbon INFO @ 18:02:52] Energy consumed for RAM : 0.000297 kWh. RAM Power : 4.7530388832092285 W\n",
            "[codecarbon INFO @ 18:02:52] Energy consumed for all CPUs : 0.002655 kWh. Total CPU Power : 42.5 W\n",
            "[codecarbon INFO @ 18:02:52] Energy consumed for all GPUs : 0.003738 kWh. Total GPU Power : 61.186847125534975 W\n",
            "[codecarbon INFO @ 18:02:52] 0.006690 kWh of electricity used since the beginning.\n",
            "[codecarbon INFO @ 18:03:07] Energy consumed for RAM : 0.000317 kWh. RAM Power : 4.7530388832092285 W\n",
            "[codecarbon INFO @ 18:03:07] Energy consumed for all CPUs : 0.002832 kWh. Total CPU Power : 42.5 W\n",
            "[codecarbon INFO @ 18:03:07] Energy consumed for all GPUs : 0.003992 kWh. Total GPU Power : 61.03374294542471 W\n",
            "[codecarbon INFO @ 18:03:07] 0.007141 kWh of electricity used since the beginning.\n",
            "[codecarbon INFO @ 18:03:07] 0.010512 g.CO2eq/s mean an estimation of 331.5051824878716 kg.CO2eq/year\n",
            "[codecarbon INFO @ 18:03:22] Energy consumed for RAM : 0.000336 kWh. RAM Power : 4.7530388832092285 W\n",
            "[codecarbon INFO @ 18:03:22] Energy consumed for all CPUs : 0.003009 kWh. Total CPU Power : 42.5 W\n",
            "[codecarbon INFO @ 18:03:22] Energy consumed for all GPUs : 0.004249 kWh. Total GPU Power : 61.888381780800756 W\n",
            "[codecarbon INFO @ 18:03:22] 0.007595 kWh of electricity used since the beginning.\n",
            "[codecarbon INFO @ 18:03:37] Energy consumed for RAM : 0.000356 kWh. RAM Power : 4.7530388832092285 W\n",
            "[codecarbon INFO @ 18:03:37] Energy consumed for all CPUs : 0.003186 kWh. Total CPU Power : 42.5 W\n",
            "[codecarbon INFO @ 18:03:37] Energy consumed for all GPUs : 0.004503 kWh. Total GPU Power : 60.924730868068316 W\n",
            "[codecarbon INFO @ 18:03:37] 0.008046 kWh of electricity used since the beginning.\n",
            "[codecarbon INFO @ 18:03:52] Energy consumed for RAM : 0.000376 kWh. RAM Power : 4.7530388832092285 W\n",
            "[codecarbon INFO @ 18:03:52] Energy consumed for all CPUs : 0.003363 kWh. Total CPU Power : 42.5 W\n",
            "[codecarbon INFO @ 18:03:52] Energy consumed for all GPUs : 0.004757 kWh. Total GPU Power : 60.924468442546 W\n",
            "[codecarbon INFO @ 18:03:52] 0.008496 kWh of electricity used since the beginning.\n"
          ]
        },
        {
          "output_type": "stream",
          "name": "stdout",
          "text": [
            "Epoch 4/10 - Loss: 0.0424 - Accuracy: 98.72%\n"
          ]
        },
        {
          "output_type": "stream",
          "name": "stderr",
          "text": [
            "[codecarbon INFO @ 18:04:07] Energy consumed for RAM : 0.000396 kWh. RAM Power : 4.7530388832092285 W\n",
            "[codecarbon INFO @ 18:04:07] Energy consumed for all CPUs : 0.003540 kWh. Total CPU Power : 42.5 W\n",
            "[codecarbon INFO @ 18:04:07] Energy consumed for all GPUs : 0.005012 kWh. Total GPU Power : 61.36444356930976 W\n",
            "[codecarbon INFO @ 18:04:07] 0.008949 kWh of electricity used since the beginning.\n",
            "[codecarbon INFO @ 18:04:22] Energy consumed for RAM : 0.000416 kWh. RAM Power : 4.7530388832092285 W\n",
            "[codecarbon INFO @ 18:04:22] Energy consumed for all CPUs : 0.003717 kWh. Total CPU Power : 42.5 W\n",
            "[codecarbon INFO @ 18:04:22] Energy consumed for all GPUs : 0.005268 kWh. Total GPU Power : 61.39971736410161 W\n",
            "[codecarbon INFO @ 18:04:22] 0.009401 kWh of electricity used since the beginning.\n",
            "[codecarbon INFO @ 18:04:37] Energy consumed for RAM : 0.000435 kWh. RAM Power : 4.7530388832092285 W\n",
            "[codecarbon INFO @ 18:04:37] Energy consumed for all CPUs : 0.003894 kWh. Total CPU Power : 42.5 W\n",
            "[codecarbon INFO @ 18:04:37] Energy consumed for all GPUs : 0.005525 kWh. Total GPU Power : 61.72653863141268 W\n",
            "[codecarbon INFO @ 18:04:37] 0.009855 kWh of electricity used since the beginning.\n",
            "[codecarbon INFO @ 18:04:52] Energy consumed for RAM : 0.000455 kWh. RAM Power : 4.7530388832092285 W\n",
            "[codecarbon INFO @ 18:04:52] Energy consumed for all CPUs : 0.004071 kWh. Total CPU Power : 42.5 W\n",
            "[codecarbon INFO @ 18:04:52] Energy consumed for all GPUs : 0.005777 kWh. Total GPU Power : 60.58584046671428 W\n",
            "[codecarbon INFO @ 18:04:52] 0.010304 kWh of electricity used since the beginning.\n"
          ]
        },
        {
          "output_type": "stream",
          "name": "stdout",
          "text": [
            "Epoch 5/10 - Loss: 0.0390 - Accuracy: 98.72%\n"
          ]
        },
        {
          "output_type": "stream",
          "name": "stderr",
          "text": [
            "[codecarbon INFO @ 18:05:07] Energy consumed for RAM : 0.000475 kWh. RAM Power : 4.7530388832092285 W\n",
            "[codecarbon INFO @ 18:05:07] Energy consumed for all CPUs : 0.004248 kWh. Total CPU Power : 42.5 W\n",
            "[codecarbon INFO @ 18:05:07] Energy consumed for all GPUs : 0.006034 kWh. Total GPU Power : 61.543839485159 W\n",
            "[codecarbon INFO @ 18:05:07] 0.010757 kWh of electricity used since the beginning.\n",
            "[codecarbon INFO @ 18:05:07] 0.010523 g.CO2eq/s mean an estimation of 331.8390161261931 kg.CO2eq/year\n",
            "[codecarbon INFO @ 18:05:22] Energy consumed for RAM : 0.000495 kWh. RAM Power : 4.7530388832092285 W\n",
            "[codecarbon INFO @ 18:05:22] Energy consumed for all CPUs : 0.004425 kWh. Total CPU Power : 42.5 W\n",
            "[codecarbon INFO @ 18:05:22] Energy consumed for all GPUs : 0.006288 kWh. Total GPU Power : 61.051105712808855 W\n",
            "[codecarbon INFO @ 18:05:22] 0.011208 kWh of electricity used since the beginning.\n",
            "[codecarbon INFO @ 18:05:37] Energy consumed for RAM : 0.000515 kWh. RAM Power : 4.7530388832092285 W\n",
            "[codecarbon INFO @ 18:05:37] Energy consumed for all CPUs : 0.004602 kWh. Total CPU Power : 42.5 W\n",
            "[codecarbon INFO @ 18:05:37] Energy consumed for all GPUs : 0.006545 kWh. Total GPU Power : 61.625512374101255 W\n",
            "[codecarbon INFO @ 18:05:37] 0.011662 kWh of electricity used since the beginning.\n",
            "[codecarbon INFO @ 18:05:52] Energy consumed for RAM : 0.000534 kWh. RAM Power : 4.7530388832092285 W\n",
            "[codecarbon INFO @ 18:05:52] Energy consumed for all CPUs : 0.004779 kWh. Total CPU Power : 42.5 W\n",
            "[codecarbon INFO @ 18:05:52] Energy consumed for all GPUs : 0.006798 kWh. Total GPU Power : 60.74091785799761 W\n",
            "[codecarbon INFO @ 18:05:52] 0.012111 kWh of electricity used since the beginning.\n",
            "[codecarbon INFO @ 18:06:07] Energy consumed for RAM : 0.000554 kWh. RAM Power : 4.7530388832092285 W\n",
            "[codecarbon INFO @ 18:06:07] Energy consumed for all CPUs : 0.004956 kWh. Total CPU Power : 42.5 W\n",
            "[codecarbon INFO @ 18:06:07] Energy consumed for all GPUs : 0.007052 kWh. Total GPU Power : 61.1399572687149 W\n",
            "[codecarbon INFO @ 18:06:07] 0.012562 kWh of electricity used since the beginning.\n"
          ]
        },
        {
          "output_type": "stream",
          "name": "stdout",
          "text": [
            "Epoch 6/10 - Loss: 0.0401 - Accuracy: 99.02%\n"
          ]
        },
        {
          "output_type": "stream",
          "name": "stderr",
          "text": [
            "[codecarbon INFO @ 18:06:22] Energy consumed for RAM : 0.000574 kWh. RAM Power : 4.7530388832092285 W\n",
            "[codecarbon INFO @ 18:06:22] Energy consumed for all CPUs : 0.005133 kWh. Total CPU Power : 42.5 W\n",
            "[codecarbon INFO @ 18:06:22] Energy consumed for all GPUs : 0.007308 kWh. Total GPU Power : 61.378801899809474 W\n",
            "[codecarbon INFO @ 18:06:22] 0.013015 kWh of electricity used since the beginning.\n",
            "[codecarbon INFO @ 18:06:37] Energy consumed for RAM : 0.000594 kWh. RAM Power : 4.7530388832092285 W\n",
            "[codecarbon INFO @ 18:06:37] Energy consumed for all CPUs : 0.005310 kWh. Total CPU Power : 42.5 W\n",
            "[codecarbon INFO @ 18:06:37] Energy consumed for all GPUs : 0.007563 kWh. Total GPU Power : 61.314453753726546 W\n",
            "[codecarbon INFO @ 18:06:37] 0.013467 kWh of electricity used since the beginning.\n",
            "[codecarbon INFO @ 18:06:52] Energy consumed for RAM : 0.000614 kWh. RAM Power : 4.7530388832092285 W\n",
            "[codecarbon INFO @ 18:06:52] Energy consumed for all CPUs : 0.005487 kWh. Total CPU Power : 42.5 W\n",
            "[codecarbon INFO @ 18:06:52] Energy consumed for all GPUs : 0.007818 kWh. Total GPU Power : 61.23072258503127 W\n",
            "[codecarbon INFO @ 18:06:52] 0.013919 kWh of electricity used since the beginning.\n",
            "[codecarbon INFO @ 18:07:07] Energy consumed for RAM : 0.000633 kWh. RAM Power : 4.7530388832092285 W\n",
            "[codecarbon INFO @ 18:07:07] Energy consumed for all CPUs : 0.005664 kWh. Total CPU Power : 42.5 W\n",
            "[codecarbon INFO @ 18:07:07] Energy consumed for all GPUs : 0.008072 kWh. Total GPU Power : 60.955090481732505 W\n",
            "[codecarbon INFO @ 18:07:07] 0.014370 kWh of electricity used since the beginning.\n",
            "[codecarbon INFO @ 18:07:07] 0.010512 g.CO2eq/s mean an estimation of 331.5084040412669 kg.CO2eq/year\n",
            "[codecarbon INFO @ 18:07:22] Energy consumed for RAM : 0.000653 kWh. RAM Power : 4.7530388832092285 W\n",
            "[codecarbon INFO @ 18:07:22] Energy consumed for all CPUs : 0.005841 kWh. Total CPU Power : 42.5 W\n",
            "[codecarbon INFO @ 18:07:22] Energy consumed for all GPUs : 0.008329 kWh. Total GPU Power : 61.49992412263432 W\n",
            "[codecarbon INFO @ 18:07:22] 0.014823 kWh of electricity used since the beginning.\n"
          ]
        },
        {
          "output_type": "stream",
          "name": "stdout",
          "text": [
            "Epoch 7/10 - Loss: 0.0461 - Accuracy: 98.51%\n"
          ]
        },
        {
          "output_type": "stream",
          "name": "stderr",
          "text": [
            "[codecarbon INFO @ 18:07:37] Energy consumed for RAM : 0.000673 kWh. RAM Power : 4.7530388832092285 W\n",
            "[codecarbon INFO @ 18:07:37] Energy consumed for all CPUs : 0.006018 kWh. Total CPU Power : 42.5 W\n",
            "[codecarbon INFO @ 18:07:37] Energy consumed for all GPUs : 0.008583 kWh. Total GPU Power : 60.95325976026308 W\n",
            "[codecarbon INFO @ 18:07:37] 0.015274 kWh of electricity used since the beginning.\n",
            "[codecarbon INFO @ 18:07:52] Energy consumed for RAM : 0.000693 kWh. RAM Power : 4.7530388832092285 W\n",
            "[codecarbon INFO @ 18:07:52] Energy consumed for all CPUs : 0.006195 kWh. Total CPU Power : 42.5 W\n",
            "[codecarbon INFO @ 18:07:52] Energy consumed for all GPUs : 0.008835 kWh. Total GPU Power : 60.65234511374919 W\n",
            "[codecarbon INFO @ 18:07:52] 0.015724 kWh of electricity used since the beginning.\n",
            "[codecarbon INFO @ 18:08:07] Energy consumed for RAM : 0.000713 kWh. RAM Power : 4.7530388832092285 W\n",
            "[codecarbon INFO @ 18:08:07] Energy consumed for all CPUs : 0.006372 kWh. Total CPU Power : 42.5 W\n",
            "[codecarbon INFO @ 18:08:07] Energy consumed for all GPUs : 0.009090 kWh. Total GPU Power : 61.12161188786154 W\n",
            "[codecarbon INFO @ 18:08:07] 0.016175 kWh of electricity used since the beginning.\n",
            "[codecarbon INFO @ 18:08:22] Energy consumed for RAM : 0.000732 kWh. RAM Power : 4.7530388832092285 W\n",
            "[codecarbon INFO @ 18:08:22] Energy consumed for all CPUs : 0.006549 kWh. Total CPU Power : 42.5 W\n",
            "[codecarbon INFO @ 18:08:22] Energy consumed for all GPUs : 0.009343 kWh. Total GPU Power : 60.643701805712794 W\n",
            "[codecarbon INFO @ 18:08:22] 0.016624 kWh of electricity used since the beginning.\n"
          ]
        },
        {
          "output_type": "stream",
          "name": "stdout",
          "text": [
            "Epoch 8/10 - Loss: 0.0162 - Accuracy: 99.44%\n"
          ]
        },
        {
          "output_type": "stream",
          "name": "stderr",
          "text": [
            "[codecarbon INFO @ 18:08:37] Energy consumed for RAM : 0.000752 kWh. RAM Power : 4.7530388832092285 W\n",
            "[codecarbon INFO @ 18:08:37] Energy consumed for all CPUs : 0.006726 kWh. Total CPU Power : 42.5 W\n",
            "[codecarbon INFO @ 18:08:37] Energy consumed for all GPUs : 0.009598 kWh. Total GPU Power : 61.21785721158867 W\n",
            "[codecarbon INFO @ 18:08:37] 0.017076 kWh of electricity used since the beginning.\n",
            "[codecarbon INFO @ 18:08:52] Energy consumed for RAM : 0.000772 kWh. RAM Power : 4.7530388832092285 W\n",
            "[codecarbon INFO @ 18:08:52] Energy consumed for all CPUs : 0.006903 kWh. Total CPU Power : 42.5 W\n",
            "[codecarbon INFO @ 18:08:52] Energy consumed for all GPUs : 0.009850 kWh. Total GPU Power : 60.58237238119184 W\n",
            "[codecarbon INFO @ 18:08:52] 0.017525 kWh of electricity used since the beginning.\n",
            "[codecarbon INFO @ 18:09:07] Energy consumed for RAM : 0.000792 kWh. RAM Power : 4.7530388832092285 W\n",
            "[codecarbon INFO @ 18:09:07] Energy consumed for all CPUs : 0.007080 kWh. Total CPU Power : 42.5 W\n",
            "[codecarbon INFO @ 18:09:07] Energy consumed for all GPUs : 0.010105 kWh. Total GPU Power : 61.12996435386837 W\n",
            "[codecarbon INFO @ 18:09:07] 0.017977 kWh of electricity used since the beginning.\n",
            "[codecarbon INFO @ 18:09:07] 0.010494 g.CO2eq/s mean an estimation of 330.9316253999747 kg.CO2eq/year\n",
            "[codecarbon INFO @ 18:09:22] Energy consumed for RAM : 0.000811 kWh. RAM Power : 4.7530388832092285 W\n",
            "[codecarbon INFO @ 18:09:22] Energy consumed for all CPUs : 0.007257 kWh. Total CPU Power : 42.5 W\n",
            "[codecarbon INFO @ 18:09:22] Energy consumed for all GPUs : 0.010359 kWh. Total GPU Power : 61.15688828727405 W\n",
            "[codecarbon INFO @ 18:09:22] 0.018428 kWh of electricity used since the beginning.\n",
            "[codecarbon INFO @ 18:09:37] Energy consumed for RAM : 0.000831 kWh. RAM Power : 4.7530388832092285 W\n",
            "[codecarbon INFO @ 18:09:37] Energy consumed for all CPUs : 0.007434 kWh. Total CPU Power : 42.5 W\n",
            "[codecarbon INFO @ 18:09:37] Energy consumed for all GPUs : 0.010614 kWh. Total GPU Power : 61.17632223581663 W\n",
            "[codecarbon INFO @ 18:09:37] 0.018880 kWh of electricity used since the beginning.\n"
          ]
        },
        {
          "output_type": "stream",
          "name": "stdout",
          "text": [
            "Epoch 9/10 - Loss: 0.0267 - Accuracy: 99.16%\n"
          ]
        },
        {
          "output_type": "stream",
          "name": "stderr",
          "text": [
            "[codecarbon INFO @ 18:09:52] Energy consumed for RAM : 0.000851 kWh. RAM Power : 4.7530388832092285 W\n",
            "[codecarbon INFO @ 18:09:52] Energy consumed for all CPUs : 0.007611 kWh. Total CPU Power : 42.5 W\n",
            "[codecarbon INFO @ 18:09:52] Energy consumed for all GPUs : 0.010866 kWh. Total GPU Power : 60.42959025196672 W\n",
            "[codecarbon INFO @ 18:09:52] 0.019329 kWh of electricity used since the beginning.\n",
            "[codecarbon INFO @ 18:10:07] Energy consumed for RAM : 0.000871 kWh. RAM Power : 4.7530388832092285 W\n",
            "[codecarbon INFO @ 18:10:07] Energy consumed for all CPUs : 0.007788 kWh. Total CPU Power : 42.5 W\n",
            "[codecarbon INFO @ 18:10:07] Energy consumed for all GPUs : 0.011120 kWh. Total GPU Power : 61.028507102508826 W\n",
            "[codecarbon INFO @ 18:10:07] 0.019780 kWh of electricity used since the beginning.\n",
            "[codecarbon INFO @ 18:10:22] Energy consumed for RAM : 0.000891 kWh. RAM Power : 4.7530388832092285 W\n",
            "[codecarbon INFO @ 18:10:22] Energy consumed for all CPUs : 0.007965 kWh. Total CPU Power : 42.5 W\n",
            "[codecarbon INFO @ 18:10:22] Energy consumed for all GPUs : 0.011375 kWh. Total GPU Power : 61.049544331280885 W\n",
            "[codecarbon INFO @ 18:10:22] 0.020231 kWh of electricity used since the beginning.\n",
            "[codecarbon INFO @ 18:10:37] Energy consumed for RAM : 0.000910 kWh. RAM Power : 4.7530388832092285 W\n",
            "[codecarbon INFO @ 18:10:37] Energy consumed for all CPUs : 0.008142 kWh. Total CPU Power : 42.5 W\n",
            "[codecarbon INFO @ 18:10:37] Energy consumed for all GPUs : 0.011628 kWh. Total GPU Power : 60.809743902114384 W\n",
            "[codecarbon INFO @ 18:10:37] 0.020681 kWh of electricity used since the beginning.\n",
            "[codecarbon INFO @ 18:10:52] Energy consumed for RAM : 0.000930 kWh. RAM Power : 4.7530388832092285 W\n",
            "[codecarbon INFO @ 18:10:52] Energy consumed for all CPUs : 0.008319 kWh. Total CPU Power : 42.5 W\n",
            "[codecarbon INFO @ 18:10:52] Energy consumed for all GPUs : 0.011881 kWh. Total GPU Power : 60.76022529933957 W\n",
            "[codecarbon INFO @ 18:10:52] 0.021131 kWh of electricity used since the beginning.\n"
          ]
        },
        {
          "output_type": "stream",
          "name": "stdout",
          "text": [
            "Epoch 10/10 - Loss: 0.0148 - Accuracy: 99.60%\n"
          ]
        },
        {
          "output_type": "stream",
          "name": "stderr",
          "text": [
            "[codecarbon INFO @ 18:11:07] Energy consumed for RAM : 0.000949 kWh. RAM Power : 4.7530388832092285 W\n",
            "[codecarbon INFO @ 18:11:07] Energy consumed for all CPUs : 0.008490 kWh. Total CPU Power : 42.5 W\n",
            "[codecarbon INFO @ 18:11:07] Energy consumed for all GPUs : 0.012095 kWh. Total GPU Power : 53.30382088059335 W\n",
            "[codecarbon INFO @ 18:11:07] 0.021534 kWh of electricity used since the beginning.\n",
            "[codecarbon INFO @ 18:11:07] 0.010399 g.CO2eq/s mean an estimation of 327.93116232693893 kg.CO2eq/year\n"
          ]
        },
        {
          "output_type": "stream",
          "name": "stdout",
          "text": [
            "Test Accuracy: 99.31%\n"
          ]
        },
        {
          "output_type": "stream",
          "name": "stderr",
          "text": [
            "/usr/local/lib/python3.11/dist-packages/codecarbon/output_methods/file.py:52: FutureWarning: The behavior of DataFrame concatenation with empty or all-NA entries is deprecated. In a future version, this will no longer exclude empty or all-NA columns when determining the result dtypes. To retain the old behavior, exclude the relevant entries before the concat operation.\n",
            "  df = pd.concat([df, pd.DataFrame.from_records([dict(total.values)])])\n"
          ]
        }
      ]
    }
  ]
}