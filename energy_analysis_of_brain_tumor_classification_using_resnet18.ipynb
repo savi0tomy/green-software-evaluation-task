{
  "nbformat": 4,
  "nbformat_minor": 0,
  "metadata": {
    "colab": {
      "provenance": [],
      "gpuType": "T4"
    },
    "kernelspec": {
      "name": "python3",
      "display_name": "Python 3"
    },
    "language_info": {
      "name": "python"
    },
    "accelerator": "GPU"
  },
  "cells": [
    {
      "cell_type": "markdown",
      "source": [
        "Downloading the brain tumor MRI dataset from kaggle"
      ],
      "metadata": {
        "id": "M4oZto2Xgye2"
      }
    },
    {
      "cell_type": "code",
      "execution_count": null,
      "metadata": {
        "colab": {
          "base_uri": "https://localhost:8080/"
        },
        "id": "ORUMA_E5-9Jj",
        "outputId": "ce7f16be-720e-447f-9afc-4f26727ef6a1"
      },
      "outputs": [
        {
          "output_type": "stream",
          "name": "stdout",
          "text": [
            "path to dataset  /root/.cache/kagglehub/datasets/masoudnickparvar/brain-tumor-mri-dataset/versions/1\n"
          ]
        }
      ],
      "source": [
        "import kagglehub\n",
        "path = kagglehub.dataset_download(\"masoudnickparvar/brain-tumor-mri-dataset\")\n",
        "print(\"path to dataset \",path)\n"
      ]
    },
    {
      "cell_type": "markdown",
      "source": [
        "Install codecarbon and efficientnet"
      ],
      "metadata": {
        "id": "b2gGDVH8gxzK"
      }
    },
    {
      "cell_type": "code",
      "source": [
        "!pip install torch torchvision codecarbon efficientnet_pytorch\n"
      ],
      "metadata": {
        "colab": {
          "base_uri": "https://localhost:8080/"
        },
        "id": "TWsrzQQKHL7h",
        "outputId": "72fb7a52-9a99-4cb4-f771-3616e42b1af2"
      },
      "execution_count": null,
      "outputs": [
        {
          "output_type": "stream",
          "name": "stdout",
          "text": [
            "Requirement already satisfied: torch in /usr/local/lib/python3.11/dist-packages (2.5.1+cu124)\n",
            "Requirement already satisfied: torchvision in /usr/local/lib/python3.11/dist-packages (0.20.1+cu124)\n",
            "Requirement already satisfied: codecarbon in /usr/local/lib/python3.11/dist-packages (2.8.3)\n",
            "Requirement already satisfied: efficientnet_pytorch in /usr/local/lib/python3.11/dist-packages (0.7.1)\n",
            "Requirement already satisfied: filelock in /usr/local/lib/python3.11/dist-packages (from torch) (3.17.0)\n",
            "Requirement already satisfied: typing-extensions>=4.8.0 in /usr/local/lib/python3.11/dist-packages (from torch) (4.12.2)\n",
            "Requirement already satisfied: networkx in /usr/local/lib/python3.11/dist-packages (from torch) (3.4.2)\n",
            "Requirement already satisfied: jinja2 in /usr/local/lib/python3.11/dist-packages (from torch) (3.1.5)\n",
            "Requirement already satisfied: fsspec in /usr/local/lib/python3.11/dist-packages (from torch) (2024.10.0)\n",
            "Requirement already satisfied: nvidia-cuda-nvrtc-cu12==12.4.127 in /usr/local/lib/python3.11/dist-packages (from torch) (12.4.127)\n",
            "Requirement already satisfied: nvidia-cuda-runtime-cu12==12.4.127 in /usr/local/lib/python3.11/dist-packages (from torch) (12.4.127)\n",
            "Requirement already satisfied: nvidia-cuda-cupti-cu12==12.4.127 in /usr/local/lib/python3.11/dist-packages (from torch) (12.4.127)\n",
            "Requirement already satisfied: nvidia-cudnn-cu12==9.1.0.70 in /usr/local/lib/python3.11/dist-packages (from torch) (9.1.0.70)\n",
            "Requirement already satisfied: nvidia-cublas-cu12==12.4.5.8 in /usr/local/lib/python3.11/dist-packages (from torch) (12.4.5.8)\n",
            "Requirement already satisfied: nvidia-cufft-cu12==11.2.1.3 in /usr/local/lib/python3.11/dist-packages (from torch) (11.2.1.3)\n",
            "Requirement already satisfied: nvidia-curand-cu12==10.3.5.147 in /usr/local/lib/python3.11/dist-packages (from torch) (10.3.5.147)\n",
            "Requirement already satisfied: nvidia-cusolver-cu12==11.6.1.9 in /usr/local/lib/python3.11/dist-packages (from torch) (11.6.1.9)\n",
            "Requirement already satisfied: nvidia-cusparse-cu12==12.3.1.170 in /usr/local/lib/python3.11/dist-packages (from torch) (12.3.1.170)\n",
            "Requirement already satisfied: nvidia-nccl-cu12==2.21.5 in /usr/local/lib/python3.11/dist-packages (from torch) (2.21.5)\n",
            "Requirement already satisfied: nvidia-nvtx-cu12==12.4.127 in /usr/local/lib/python3.11/dist-packages (from torch) (12.4.127)\n",
            "Requirement already satisfied: nvidia-nvjitlink-cu12==12.4.127 in /usr/local/lib/python3.11/dist-packages (from torch) (12.4.127)\n",
            "Requirement already satisfied: triton==3.1.0 in /usr/local/lib/python3.11/dist-packages (from torch) (3.1.0)\n",
            "Requirement already satisfied: sympy==1.13.1 in /usr/local/lib/python3.11/dist-packages (from torch) (1.13.1)\n",
            "Requirement already satisfied: mpmath<1.4,>=1.1.0 in /usr/local/lib/python3.11/dist-packages (from sympy==1.13.1->torch) (1.3.0)\n",
            "Requirement already satisfied: numpy in /usr/local/lib/python3.11/dist-packages (from torchvision) (1.26.4)\n",
            "Requirement already satisfied: pillow!=8.3.*,>=5.3.0 in /usr/local/lib/python3.11/dist-packages (from torchvision) (11.1.0)\n",
            "Requirement already satisfied: arrow in /usr/local/lib/python3.11/dist-packages (from codecarbon) (1.3.0)\n",
            "Requirement already satisfied: click in /usr/local/lib/python3.11/dist-packages (from codecarbon) (8.1.8)\n",
            "Requirement already satisfied: fief-client[cli] in /usr/local/lib/python3.11/dist-packages (from codecarbon) (0.20.0)\n",
            "Requirement already satisfied: pandas in /usr/local/lib/python3.11/dist-packages (from codecarbon) (2.2.2)\n",
            "Requirement already satisfied: prometheus-client in /usr/local/lib/python3.11/dist-packages (from codecarbon) (0.21.1)\n",
            "Requirement already satisfied: psutil in /usr/local/lib/python3.11/dist-packages (from codecarbon) (5.9.5)\n",
            "Requirement already satisfied: py-cpuinfo in /usr/local/lib/python3.11/dist-packages (from codecarbon) (9.0.0)\n",
            "Requirement already satisfied: pynvml in /usr/local/lib/python3.11/dist-packages (from codecarbon) (11.4.1)\n",
            "Requirement already satisfied: questionary in /usr/local/lib/python3.11/dist-packages (from codecarbon) (2.1.0)\n",
            "Requirement already satisfied: rapidfuzz in /usr/local/lib/python3.11/dist-packages (from codecarbon) (3.12.2)\n",
            "Requirement already satisfied: requests in /usr/local/lib/python3.11/dist-packages (from codecarbon) (2.32.3)\n",
            "Requirement already satisfied: rich in /usr/local/lib/python3.11/dist-packages (from codecarbon) (13.9.4)\n",
            "Requirement already satisfied: typer in /usr/local/lib/python3.11/dist-packages (from codecarbon) (0.15.1)\n",
            "Requirement already satisfied: python-dateutil>=2.7.0 in /usr/local/lib/python3.11/dist-packages (from arrow->codecarbon) (2.8.2)\n",
            "Requirement already satisfied: types-python-dateutil>=2.8.10 in /usr/local/lib/python3.11/dist-packages (from arrow->codecarbon) (2.9.0.20241206)\n",
            "Requirement already satisfied: httpx<0.28.0,>=0.21.3 in /usr/local/lib/python3.11/dist-packages (from fief-client[cli]->codecarbon) (0.27.2)\n",
            "Requirement already satisfied: jwcrypto<2.0.0,>=1.4 in /usr/local/lib/python3.11/dist-packages (from fief-client[cli]->codecarbon) (1.5.6)\n",
            "Requirement already satisfied: yaspin in /usr/local/lib/python3.11/dist-packages (from fief-client[cli]->codecarbon) (3.1.0)\n",
            "Requirement already satisfied: MarkupSafe>=2.0 in /usr/local/lib/python3.11/dist-packages (from jinja2->torch) (3.0.2)\n",
            "Requirement already satisfied: pytz>=2020.1 in /usr/local/lib/python3.11/dist-packages (from pandas->codecarbon) (2025.1)\n",
            "Requirement already satisfied: tzdata>=2022.7 in /usr/local/lib/python3.11/dist-packages (from pandas->codecarbon) (2025.1)\n",
            "Requirement already satisfied: prompt_toolkit<4.0,>=2.0 in /usr/local/lib/python3.11/dist-packages (from questionary->codecarbon) (3.0.50)\n",
            "Requirement already satisfied: charset-normalizer<4,>=2 in /usr/local/lib/python3.11/dist-packages (from requests->codecarbon) (3.4.1)\n",
            "Requirement already satisfied: idna<4,>=2.5 in /usr/local/lib/python3.11/dist-packages (from requests->codecarbon) (3.10)\n",
            "Requirement already satisfied: urllib3<3,>=1.21.1 in /usr/local/lib/python3.11/dist-packages (from requests->codecarbon) (2.3.0)\n",
            "Requirement already satisfied: certifi>=2017.4.17 in /usr/local/lib/python3.11/dist-packages (from requests->codecarbon) (2025.1.31)\n",
            "Requirement already satisfied: markdown-it-py>=2.2.0 in /usr/local/lib/python3.11/dist-packages (from rich->codecarbon) (3.0.0)\n",
            "Requirement already satisfied: pygments<3.0.0,>=2.13.0 in /usr/local/lib/python3.11/dist-packages (from rich->codecarbon) (2.18.0)\n",
            "Requirement already satisfied: shellingham>=1.3.0 in /usr/local/lib/python3.11/dist-packages (from typer->codecarbon) (1.5.4)\n",
            "Requirement already satisfied: anyio in /usr/local/lib/python3.11/dist-packages (from httpx<0.28.0,>=0.21.3->fief-client[cli]->codecarbon) (3.7.1)\n",
            "Requirement already satisfied: httpcore==1.* in /usr/local/lib/python3.11/dist-packages (from httpx<0.28.0,>=0.21.3->fief-client[cli]->codecarbon) (1.0.7)\n",
            "Requirement already satisfied: sniffio in /usr/local/lib/python3.11/dist-packages (from httpx<0.28.0,>=0.21.3->fief-client[cli]->codecarbon) (1.3.1)\n",
            "Requirement already satisfied: h11<0.15,>=0.13 in /usr/local/lib/python3.11/dist-packages (from httpcore==1.*->httpx<0.28.0,>=0.21.3->fief-client[cli]->codecarbon) (0.14.0)\n",
            "Requirement already satisfied: cryptography>=3.4 in /usr/local/lib/python3.11/dist-packages (from jwcrypto<2.0.0,>=1.4->fief-client[cli]->codecarbon) (43.0.3)\n",
            "Requirement already satisfied: mdurl~=0.1 in /usr/local/lib/python3.11/dist-packages (from markdown-it-py>=2.2.0->rich->codecarbon) (0.1.2)\n",
            "Requirement already satisfied: wcwidth in /usr/local/lib/python3.11/dist-packages (from prompt_toolkit<4.0,>=2.0->questionary->codecarbon) (0.2.13)\n",
            "Requirement already satisfied: six>=1.5 in /usr/local/lib/python3.11/dist-packages (from python-dateutil>=2.7.0->arrow->codecarbon) (1.17.0)\n",
            "Requirement already satisfied: termcolor<2.4.0,>=2.2.0 in /usr/local/lib/python3.11/dist-packages (from yaspin->fief-client[cli]->codecarbon) (2.3.0)\n",
            "Requirement already satisfied: cffi>=1.12 in /usr/local/lib/python3.11/dist-packages (from cryptography>=3.4->jwcrypto<2.0.0,>=1.4->fief-client[cli]->codecarbon) (1.17.1)\n",
            "Requirement already satisfied: pycparser in /usr/local/lib/python3.11/dist-packages (from cffi>=1.12->cryptography>=3.4->jwcrypto<2.0.0,>=1.4->fief-client[cli]->codecarbon) (2.22)\n"
          ]
        }
      ]
    },
    {
      "cell_type": "markdown",
      "source": [
        "Prepare the data for training"
      ],
      "metadata": {
        "id": "O_yFECDJg7dU"
      }
    },
    {
      "cell_type": "code",
      "source": [
        "import torch\n",
        "from torchvision import datasets, transforms\n",
        "from torch.utils.data import DataLoader\n",
        "\n",
        "train_path = path+\"/Training\"\n",
        "test_path = path+\"/Testing\"\n",
        "\n",
        "img_size = (256, 256)\n",
        "transform = transforms.Compose([\n",
        "    transforms.Resize((256, 256)),\n",
        "    transforms.ToTensor(),\n",
        "    transforms.Normalize([0.485, 0.456, 0.406], [0.229, 0.224, 0.225]),\n",
        "])\n",
        "\n",
        "train_dataset = datasets.ImageFolder(root=train_path, transform=transform)\n",
        "test_dataset = datasets.ImageFolder(root=test_path, transform=transform)\n",
        "\n",
        "batch_size = 32\n",
        "train_loader = DataLoader(train_dataset, batch_size=batch_size, shuffle=True)\n",
        "test_loader = DataLoader(test_dataset, batch_size=batch_size, shuffle=False)\n",
        "\n",
        "print(\"Classes: \", train_dataset.classes)"
      ],
      "metadata": {
        "colab": {
          "base_uri": "https://localhost:8080/"
        },
        "id": "Ode4Dce9BG5o",
        "outputId": "6252f7e6-1f9b-43cf-b3e6-5bd085901926"
      },
      "execution_count": null,
      "outputs": [
        {
          "output_type": "stream",
          "name": "stdout",
          "text": [
            "Classes:  ['glioma', 'meningioma', 'notumor', 'pituitary']\n"
          ]
        }
      ]
    },
    {
      "cell_type": "markdown",
      "source": [
        "Loading resnet18 and setting the loss function and optimizer"
      ],
      "metadata": {
        "id": "_vqqVI8Sg-ox"
      }
    },
    {
      "cell_type": "code",
      "source": [
        "from torchvision import models\n",
        "from codecarbon import EmissionsTracker\n",
        "import time\n",
        "import torch.nn as nn\n",
        "import torch.optim as optim\n",
        "\n",
        "device = torch.device(\"cuda\" if torch.cuda.is_available() else \"cpu\")\n",
        "model = models.resnet18(pretrained=True)\n",
        "\n",
        "model.fc = nn.Linear(model.fc.in_features, 4)\n",
        "model = model.to(device)\n",
        "\n",
        "criterion = nn.CrossEntropyLoss()\n",
        "optimizer = optim.Adam(model.parameters(), lr=0.001)\n",
        "optimizer = torch.optim.Adam(model.parameters(), lr=0.001)"
      ],
      "metadata": {
        "id": "ROliSunfH_47"
      },
      "execution_count": null,
      "outputs": []
    },
    {
      "cell_type": "markdown",
      "source": [
        "Training and emission tracking"
      ],
      "metadata": {
        "id": "eLMkCTHEhLEH"
      }
    },
    {
      "cell_type": "code",
      "source": [
        "def train_model(model, train_loader, criterion, optimizer, epochs=10):\n",
        "    model.train()\n",
        "    for epoch in range(epochs):\n",
        "        running_loss = 0.0\n",
        "        correct = 0\n",
        "        total = 0\n",
        "\n",
        "        for images, labels in train_loader:\n",
        "            images, labels = images.to(device), labels.to(device)\n",
        "\n",
        "            outputs = model(images)\n",
        "            loss = criterion(outputs, labels)\n",
        "\n",
        "            optimizer.zero_grad()\n",
        "            loss.backward()\n",
        "            optimizer.step()\n",
        "\n",
        "            running_loss += loss.item()\n",
        "            _, predicted = outputs.max(1)\n",
        "            total += labels.size(0)\n",
        "            correct += predicted.eq(labels).sum().item()\n",
        "\n",
        "        print(f\"Epoch {epoch+1}/{epochs}, Loss: {running_loss/len(train_loader):.4f}, Accuracy: {100 * correct / total:.2f}%\")\n",
        "\n",
        "def evaluate_model(model, test_loader):\n",
        "    model.eval()\n",
        "    correct = 0\n",
        "    total = 0\n",
        "\n",
        "    with torch.no_grad():\n",
        "        for images, labels in test_loader:\n",
        "            images, labels = images.to(device), labels.to(device)\n",
        "            outputs = model(images)\n",
        "            _, predicted = outputs.max(1)\n",
        "            total += labels.size(0)\n",
        "            correct += predicted.eq(labels).sum().item()\n",
        "\n",
        "    accuracy = 100 * correct / total\n",
        "    print(f\"Test Accuracy: {accuracy:.2f}%\")\n",
        "\n",
        "tracker = EmissionsTracker()\n",
        "\n",
        "print(\"Starting energy tracking and model training...\")\n",
        "\n",
        "tracker.start()\n",
        "start_time = time.time()\n",
        "\n",
        "train_model(model, train_loader, criterion, optimizer, epochs=10)\n",
        "evaluate_model(model, test_loader)\n",
        "\n",
        "end_time = time.time()\n",
        "tracker.stop()\n",
        "\n",
        "print(f\"Total Training Time: {end_time - start_time:.2f} seconds\")"
      ],
      "metadata": {
        "colab": {
          "base_uri": "https://localhost:8080/"
        },
        "id": "sJCia2s9IPtv",
        "outputId": "89e56a5c-1d6d-4867-ce00-bcd2eea1a14c"
      },
      "execution_count": null,
      "outputs": [
        {
          "output_type": "stream",
          "name": "stderr",
          "text": [
            "[codecarbon INFO @ 18:45:35] [setup] RAM Tracking...\n",
            "[codecarbon INFO @ 18:45:35] [setup] CPU Tracking...\n",
            "[codecarbon WARNING @ 18:45:35] No CPU tracking mode found. Falling back on CPU constant mode. \n",
            " Linux OS detected: Please ensure RAPL files exist at \\sys\\class\\powercap\\intel-rapl to measure CPU\n",
            "\n",
            "[codecarbon WARNING @ 18:45:37] We saw that you have a Intel(R) Xeon(R) CPU @ 2.00GHz but we don't know it. Please contact us.\n",
            "[codecarbon INFO @ 18:45:37] CPU Model on constant consumption mode: Intel(R) Xeon(R) CPU @ 2.00GHz\n",
            "[codecarbon INFO @ 18:45:37] [setup] GPU Tracking...\n",
            "[codecarbon INFO @ 18:45:37] Tracking Nvidia GPU via pynvml\n",
            "[codecarbon INFO @ 18:45:37] >>> Tracker's metadata:\n",
            "[codecarbon INFO @ 18:45:37]   Platform system: Linux-6.1.85+-x86_64-with-glibc2.35\n",
            "[codecarbon INFO @ 18:45:37]   Python version: 3.11.11\n",
            "[codecarbon INFO @ 18:45:37]   CodeCarbon version: 2.8.3\n",
            "[codecarbon INFO @ 18:45:37]   Available RAM : 12.675 GB\n",
            "[codecarbon INFO @ 18:45:37]   CPU count: 2\n",
            "[codecarbon INFO @ 18:45:37]   CPU model: Intel(R) Xeon(R) CPU @ 2.00GHz\n",
            "[codecarbon INFO @ 18:45:37]   GPU count: 1\n",
            "[codecarbon INFO @ 18:45:37]   GPU model: 1 x Tesla T4\n",
            "[codecarbon INFO @ 18:45:37] Saving emissions data to file /content/emissions.csv\n"
          ]
        },
        {
          "output_type": "stream",
          "name": "stdout",
          "text": [
            "Starting energy tracking and model training...\n"
          ]
        },
        {
          "output_type": "stream",
          "name": "stderr",
          "text": [
            "[codecarbon INFO @ 18:45:52] Energy consumed for RAM : 0.000020 kWh. RAM Power : 4.7530388832092285 W\n",
            "[codecarbon INFO @ 18:45:52] Energy consumed for all CPUs : 0.000177 kWh. Total CPU Power : 42.5 W\n",
            "[codecarbon INFO @ 18:45:52] Energy consumed for all GPUs : 0.000214 kWh. Total GPU Power : 51.27722808402282 W\n",
            "[codecarbon INFO @ 18:45:52] 0.000411 kWh of electricity used since the beginning.\n",
            "[codecarbon INFO @ 18:46:07] Energy consumed for RAM : 0.000040 kWh. RAM Power : 4.7530388832092285 W\n",
            "[codecarbon INFO @ 18:46:07] Energy consumed for all CPUs : 0.000354 kWh. Total CPU Power : 42.5 W\n",
            "[codecarbon INFO @ 18:46:07] Energy consumed for all GPUs : 0.000429 kWh. Total GPU Power : 51.606758710253025 W\n",
            "[codecarbon INFO @ 18:46:07] 0.000822 kWh of electricity used since the beginning.\n",
            "[codecarbon INFO @ 18:46:22] Energy consumed for RAM : 0.000059 kWh. RAM Power : 4.7530388832092285 W\n",
            "[codecarbon INFO @ 18:46:22] Energy consumed for all CPUs : 0.000531 kWh. Total CPU Power : 42.5 W\n",
            "[codecarbon INFO @ 18:46:22] Energy consumed for all GPUs : 0.000653 kWh. Total GPU Power : 53.85796125806052 W\n",
            "[codecarbon INFO @ 18:46:22] 0.001243 kWh of electricity used since the beginning.\n"
          ]
        },
        {
          "output_type": "stream",
          "name": "stdout",
          "text": [
            "Epoch 1/10, Loss: 0.3086, Accuracy: 89.04%\n"
          ]
        },
        {
          "output_type": "stream",
          "name": "stderr",
          "text": [
            "[codecarbon INFO @ 18:46:37] Energy consumed for RAM : 0.000079 kWh. RAM Power : 4.7530388832092285 W\n",
            "[codecarbon INFO @ 18:46:37] Energy consumed for all CPUs : 0.000708 kWh. Total CPU Power : 42.5 W\n",
            "[codecarbon INFO @ 18:46:37] Energy consumed for all GPUs : 0.000877 kWh. Total GPU Power : 53.72788788335525 W\n",
            "[codecarbon INFO @ 18:46:37] 0.001664 kWh of electricity used since the beginning.\n",
            "[codecarbon INFO @ 18:46:52] Energy consumed for RAM : 0.000099 kWh. RAM Power : 4.7530388832092285 W\n",
            "[codecarbon INFO @ 18:46:52] Energy consumed for all CPUs : 0.000885 kWh. Total CPU Power : 42.5 W\n",
            "[codecarbon INFO @ 18:46:52] Energy consumed for all GPUs : 0.001104 kWh. Total GPU Power : 54.44724963836144 W\n",
            "[codecarbon INFO @ 18:46:52] 0.002088 kWh of electricity used since the beginning.\n"
          ]
        },
        {
          "output_type": "stream",
          "name": "stdout",
          "text": [
            "Epoch 2/10, Loss: 0.1540, Accuracy: 94.73%\n"
          ]
        },
        {
          "output_type": "stream",
          "name": "stderr",
          "text": [
            "[codecarbon INFO @ 18:47:07] Energy consumed for RAM : 0.000119 kWh. RAM Power : 4.7530388832092285 W\n",
            "[codecarbon INFO @ 18:47:07] Energy consumed for all CPUs : 0.001062 kWh. Total CPU Power : 42.5 W\n",
            "[codecarbon INFO @ 18:47:07] Energy consumed for all GPUs : 0.001336 kWh. Total GPU Power : 55.62258555702937 W\n",
            "[codecarbon INFO @ 18:47:07] 0.002517 kWh of electricity used since the beginning.\n",
            "[codecarbon INFO @ 18:47:22] Energy consumed for RAM : 0.000139 kWh. RAM Power : 4.7530388832092285 W\n",
            "[codecarbon INFO @ 18:47:22] Energy consumed for all CPUs : 0.001239 kWh. Total CPU Power : 42.5 W\n",
            "[codecarbon INFO @ 18:47:22] Energy consumed for all GPUs : 0.001567 kWh. Total GPU Power : 55.65322090989624 W\n",
            "[codecarbon INFO @ 18:47:22] 0.002945 kWh of electricity used since the beginning.\n",
            "[codecarbon INFO @ 18:47:37] Energy consumed for RAM : 0.000158 kWh. RAM Power : 4.7530388832092285 W\n",
            "[codecarbon INFO @ 18:47:37] Energy consumed for all CPUs : 0.001417 kWh. Total CPU Power : 42.5 W\n",
            "[codecarbon INFO @ 18:47:37] Energy consumed for all GPUs : 0.001801 kWh. Total GPU Power : 56.0162319286902 W\n",
            "[codecarbon INFO @ 18:47:37] 0.003376 kWh of electricity used since the beginning.\n",
            "[codecarbon INFO @ 18:47:37] 0.009820 g.CO2eq/s mean an estimation of 309.6847460154914 kg.CO2eq/year\n"
          ]
        },
        {
          "output_type": "stream",
          "name": "stdout",
          "text": [
            "Epoch 3/10, Loss: 0.1189, Accuracy: 96.13%\n"
          ]
        },
        {
          "output_type": "stream",
          "name": "stderr",
          "text": [
            "[codecarbon INFO @ 18:47:52] Energy consumed for RAM : 0.000178 kWh. RAM Power : 4.7530388832092285 W\n",
            "[codecarbon INFO @ 18:47:52] Energy consumed for all CPUs : 0.001594 kWh. Total CPU Power : 42.5 W\n",
            "[codecarbon INFO @ 18:47:52] Energy consumed for all GPUs : 0.002035 kWh. Total GPU Power : 56.21155047739435 W\n",
            "[codecarbon INFO @ 18:47:52] 0.003807 kWh of electricity used since the beginning.\n",
            "[codecarbon INFO @ 18:48:07] Energy consumed for RAM : 0.000198 kWh. RAM Power : 4.7530388832092285 W\n",
            "[codecarbon INFO @ 18:48:07] Energy consumed for all CPUs : 0.001771 kWh. Total CPU Power : 42.5 W\n",
            "[codecarbon INFO @ 18:48:07] Energy consumed for all GPUs : 0.002272 kWh. Total GPU Power : 56.79642866561071 W\n",
            "[codecarbon INFO @ 18:48:07] 0.004240 kWh of electricity used since the beginning.\n",
            "[codecarbon INFO @ 18:48:22] Energy consumed for RAM : 0.000218 kWh. RAM Power : 4.7530388832092285 W\n",
            "[codecarbon INFO @ 18:48:22] Energy consumed for all CPUs : 0.001948 kWh. Total CPU Power : 42.5 W\n",
            "[codecarbon INFO @ 18:48:22] Energy consumed for all GPUs : 0.002505 kWh. Total GPU Power : 56.01046073218025 W\n",
            "[codecarbon INFO @ 18:48:22] 0.004670 kWh of electricity used since the beginning.\n"
          ]
        },
        {
          "output_type": "stream",
          "name": "stdout",
          "text": [
            "Epoch 4/10, Loss: 0.0767, Accuracy: 97.18%\n"
          ]
        },
        {
          "output_type": "stream",
          "name": "stderr",
          "text": [
            "[codecarbon INFO @ 18:48:37] Energy consumed for RAM : 0.000238 kWh. RAM Power : 4.7530388832092285 W\n",
            "[codecarbon INFO @ 18:48:37] Energy consumed for all CPUs : 0.002125 kWh. Total CPU Power : 42.5 W\n",
            "[codecarbon INFO @ 18:48:37] Energy consumed for all GPUs : 0.002739 kWh. Total GPU Power : 56.054589234376984 W\n",
            "[codecarbon INFO @ 18:48:37] 0.005101 kWh of electricity used since the beginning.\n",
            "[codecarbon INFO @ 18:48:52] Energy consumed for RAM : 0.000257 kWh. RAM Power : 4.7530388832092285 W\n",
            "[codecarbon INFO @ 18:48:52] Energy consumed for all CPUs : 0.002302 kWh. Total CPU Power : 42.5 W\n",
            "[codecarbon INFO @ 18:48:52] Energy consumed for all GPUs : 0.002971 kWh. Total GPU Power : 55.76965052920713 W\n",
            "[codecarbon INFO @ 18:48:52] 0.005530 kWh of electricity used since the beginning.\n",
            "[codecarbon INFO @ 18:49:07] Energy consumed for RAM : 0.000277 kWh. RAM Power : 4.7530388832092285 W\n",
            "[codecarbon INFO @ 18:49:07] Energy consumed for all CPUs : 0.002479 kWh. Total CPU Power : 42.5 W\n",
            "[codecarbon INFO @ 18:49:07] Energy consumed for all GPUs : 0.003205 kWh. Total GPU Power : 56.23176942235035 W\n",
            "[codecarbon INFO @ 18:49:07] 0.005961 kWh of electricity used since the beginning.\n"
          ]
        },
        {
          "output_type": "stream",
          "name": "stdout",
          "text": [
            "Epoch 5/10, Loss: 0.0752, Accuracy: 97.44%\n"
          ]
        },
        {
          "output_type": "stream",
          "name": "stderr",
          "text": [
            "[codecarbon INFO @ 18:49:22] Energy consumed for RAM : 0.000297 kWh. RAM Power : 4.7530388832092285 W\n",
            "[codecarbon INFO @ 18:49:22] Energy consumed for all CPUs : 0.002656 kWh. Total CPU Power : 42.5 W\n",
            "[codecarbon INFO @ 18:49:22] Energy consumed for all GPUs : 0.003440 kWh. Total GPU Power : 56.51324500193222 W\n",
            "[codecarbon INFO @ 18:49:22] 0.006393 kWh of electricity used since the beginning.\n",
            "[codecarbon INFO @ 18:49:37] Energy consumed for RAM : 0.000317 kWh. RAM Power : 4.7530388832092285 W\n",
            "[codecarbon INFO @ 18:49:37] Energy consumed for all CPUs : 0.002833 kWh. Total CPU Power : 42.5 W\n",
            "[codecarbon INFO @ 18:49:37] Energy consumed for all GPUs : 0.003673 kWh. Total GPU Power : 55.86574872369156 W\n",
            "[codecarbon INFO @ 18:49:37] 0.006823 kWh of electricity used since the beginning.\n",
            "[codecarbon INFO @ 18:49:37] 0.010028 g.CO2eq/s mean an estimation of 316.2372317867827 kg.CO2eq/year\n",
            "[codecarbon INFO @ 18:49:52] Energy consumed for RAM : 0.000337 kWh. RAM Power : 4.7530388832092285 W\n",
            "[codecarbon INFO @ 18:49:52] Energy consumed for all CPUs : 0.003010 kWh. Total CPU Power : 42.5 W\n",
            "[codecarbon INFO @ 18:49:52] Energy consumed for all GPUs : 0.003906 kWh. Total GPU Power : 55.98433045649961 W\n",
            "[codecarbon INFO @ 18:49:52] 0.007252 kWh of electricity used since the beginning.\n"
          ]
        },
        {
          "output_type": "stream",
          "name": "stdout",
          "text": [
            "Epoch 6/10, Loss: 0.0493, Accuracy: 98.28%\n"
          ]
        },
        {
          "output_type": "stream",
          "name": "stderr",
          "text": [
            "[codecarbon INFO @ 18:50:07] Energy consumed for RAM : 0.000356 kWh. RAM Power : 4.7530388832092285 W\n",
            "[codecarbon INFO @ 18:50:07] Energy consumed for all CPUs : 0.003186 kWh. Total CPU Power : 42.5 W\n",
            "[codecarbon INFO @ 18:50:07] Energy consumed for all GPUs : 0.004140 kWh. Total GPU Power : 56.253568201789356 W\n",
            "[codecarbon INFO @ 18:50:07] 0.007683 kWh of electricity used since the beginning.\n",
            "[codecarbon INFO @ 18:50:22] Energy consumed for RAM : 0.000376 kWh. RAM Power : 4.7530388832092285 W\n",
            "[codecarbon INFO @ 18:50:22] Energy consumed for all CPUs : 0.003364 kWh. Total CPU Power : 42.5 W\n",
            "[codecarbon INFO @ 18:50:22] Energy consumed for all GPUs : 0.004378 kWh. Total GPU Power : 56.991334675671936 W\n",
            "[codecarbon INFO @ 18:50:22] 0.008118 kWh of electricity used since the beginning.\n",
            "[codecarbon INFO @ 18:50:37] Energy consumed for RAM : 0.000396 kWh. RAM Power : 4.7530388832092285 W\n",
            "[codecarbon INFO @ 18:50:37] Energy consumed for all CPUs : 0.003541 kWh. Total CPU Power : 42.5 W\n",
            "[codecarbon INFO @ 18:50:37] Energy consumed for all GPUs : 0.004611 kWh. Total GPU Power : 56.00366059568402 W\n",
            "[codecarbon INFO @ 18:50:37] 0.008548 kWh of electricity used since the beginning.\n"
          ]
        },
        {
          "output_type": "stream",
          "name": "stdout",
          "text": [
            "Epoch 7/10, Loss: 0.0348, Accuracy: 98.93%\n"
          ]
        },
        {
          "output_type": "stream",
          "name": "stderr",
          "text": [
            "[codecarbon INFO @ 18:50:52] Energy consumed for RAM : 0.000416 kWh. RAM Power : 4.7530388832092285 W\n",
            "[codecarbon INFO @ 18:50:52] Energy consumed for all CPUs : 0.003718 kWh. Total CPU Power : 42.5 W\n",
            "[codecarbon INFO @ 18:50:52] Energy consumed for all GPUs : 0.004845 kWh. Total GPU Power : 56.05256917002187 W\n",
            "[codecarbon INFO @ 18:50:52] 0.008978 kWh of electricity used since the beginning.\n",
            "[codecarbon INFO @ 18:51:07] Energy consumed for RAM : 0.000435 kWh. RAM Power : 4.7530388832092285 W\n",
            "[codecarbon INFO @ 18:51:07] Energy consumed for all CPUs : 0.003895 kWh. Total CPU Power : 42.5 W\n",
            "[codecarbon INFO @ 18:51:07] Energy consumed for all GPUs : 0.005079 kWh. Total GPU Power : 56.208350419002365 W\n",
            "[codecarbon INFO @ 18:51:07] 0.009409 kWh of electricity used since the beginning.\n",
            "[codecarbon INFO @ 18:51:22] Energy consumed for RAM : 0.000455 kWh. RAM Power : 4.7530388832092285 W\n",
            "[codecarbon INFO @ 18:51:22] Energy consumed for all CPUs : 0.004072 kWh. Total CPU Power : 42.5 W\n",
            "[codecarbon INFO @ 18:51:22] Energy consumed for all GPUs : 0.005315 kWh. Total GPU Power : 56.593288020074326 W\n",
            "[codecarbon INFO @ 18:51:22] 0.009842 kWh of electricity used since the beginning.\n"
          ]
        },
        {
          "output_type": "stream",
          "name": "stdout",
          "text": [
            "Epoch 8/10, Loss: 0.0491, Accuracy: 98.37%\n"
          ]
        },
        {
          "output_type": "stream",
          "name": "stderr",
          "text": [
            "[codecarbon INFO @ 18:51:37] Energy consumed for RAM : 0.000475 kWh. RAM Power : 4.7530388832092285 W\n",
            "[codecarbon INFO @ 18:51:37] Energy consumed for all CPUs : 0.004249 kWh. Total CPU Power : 42.5 W\n",
            "[codecarbon INFO @ 18:51:37] Energy consumed for all GPUs : 0.005550 kWh. Total GPU Power : 56.333200743798656 W\n",
            "[codecarbon INFO @ 18:51:37] 0.010274 kWh of electricity used since the beginning.\n",
            "[codecarbon INFO @ 18:51:37] 0.010040 g.CO2eq/s mean an estimation of 316.63067766887735 kg.CO2eq/year\n",
            "[codecarbon INFO @ 18:51:52] Energy consumed for RAM : 0.000495 kWh. RAM Power : 4.7530388832092285 W\n",
            "[codecarbon INFO @ 18:51:52] Energy consumed for all CPUs : 0.004426 kWh. Total CPU Power : 42.5 W\n",
            "[codecarbon INFO @ 18:51:52] Energy consumed for all GPUs : 0.005784 kWh. Total GPU Power : 56.13770663848843 W\n",
            "[codecarbon INFO @ 18:51:52] 0.010704 kWh of electricity used since the beginning.\n",
            "[codecarbon INFO @ 18:52:07] Energy consumed for RAM : 0.000515 kWh. RAM Power : 4.7530388832092285 W\n",
            "[codecarbon INFO @ 18:52:07] Energy consumed for all CPUs : 0.004603 kWh. Total CPU Power : 42.5 W\n",
            "[codecarbon INFO @ 18:52:07] Energy consumed for all GPUs : 0.006019 kWh. Total GPU Power : 56.45483384907816 W\n",
            "[codecarbon INFO @ 18:52:07] 0.011136 kWh of electricity used since the beginning.\n"
          ]
        },
        {
          "output_type": "stream",
          "name": "stdout",
          "text": [
            "Epoch 9/10, Loss: 0.0616, Accuracy: 98.13%\n"
          ]
        },
        {
          "output_type": "stream",
          "name": "stderr",
          "text": [
            "[codecarbon INFO @ 18:52:22] Energy consumed for RAM : 0.000534 kWh. RAM Power : 4.7530388832092285 W\n",
            "[codecarbon INFO @ 18:52:22] Energy consumed for all CPUs : 0.004780 kWh. Total CPU Power : 42.5 W\n",
            "[codecarbon INFO @ 18:52:22] Energy consumed for all GPUs : 0.006254 kWh. Total GPU Power : 56.56654985562621 W\n",
            "[codecarbon INFO @ 18:52:22] 0.011569 kWh of electricity used since the beginning.\n",
            "[codecarbon INFO @ 18:52:37] Energy consumed for RAM : 0.000554 kWh. RAM Power : 4.7530388832092285 W\n",
            "[codecarbon INFO @ 18:52:37] Energy consumed for all CPUs : 0.004957 kWh. Total CPU Power : 42.5 W\n",
            "[codecarbon INFO @ 18:52:37] Energy consumed for all GPUs : 0.006489 kWh. Total GPU Power : 56.38514701104989 W\n",
            "[codecarbon INFO @ 18:52:37] 0.012001 kWh of electricity used since the beginning.\n",
            "[codecarbon INFO @ 18:52:52] Energy consumed for RAM : 0.000574 kWh. RAM Power : 4.7530388832092285 W\n",
            "[codecarbon INFO @ 18:52:52] Energy consumed for all CPUs : 0.005134 kWh. Total CPU Power : 42.5 W\n",
            "[codecarbon INFO @ 18:52:52] Energy consumed for all GPUs : 0.006724 kWh. Total GPU Power : 56.45632550646189 W\n",
            "[codecarbon INFO @ 18:52:52] 0.012432 kWh of electricity used since the beginning.\n"
          ]
        },
        {
          "output_type": "stream",
          "name": "stdout",
          "text": [
            "Epoch 10/10, Loss: 0.0162, Accuracy: 99.49%\n"
          ]
        },
        {
          "output_type": "stream",
          "name": "stderr",
          "text": [
            "[codecarbon INFO @ 18:53:07] Energy consumed for RAM : 0.000594 kWh. RAM Power : 4.7530388832092285 W\n",
            "[codecarbon INFO @ 18:53:07] Energy consumed for all CPUs : 0.005311 kWh. Total CPU Power : 42.5 W\n",
            "[codecarbon INFO @ 18:53:07] Energy consumed for all GPUs : 0.006956 kWh. Total GPU Power : 55.56658419888078 W\n",
            "[codecarbon INFO @ 18:53:07] 0.012861 kWh of electricity used since the beginning.\n",
            "[codecarbon INFO @ 18:53:12] Energy consumed for RAM : 0.000600 kWh. RAM Power : 4.7530388832092285 W\n",
            "[codecarbon INFO @ 18:53:12] Energy consumed for all CPUs : 0.005368 kWh. Total CPU Power : 42.5 W\n",
            "[codecarbon INFO @ 18:53:12] Energy consumed for all GPUs : 0.007009 kWh. Total GPU Power : 39.748686086779344 W\n",
            "[codecarbon INFO @ 18:53:12] 0.012978 kWh of electricity used since the beginning.\n"
          ]
        },
        {
          "output_type": "stream",
          "name": "stdout",
          "text": [
            "Test Accuracy: 96.72%\n",
            "Total Training Time: 454.98 seconds\n"
          ]
        }
      ]
    }
  ]
}